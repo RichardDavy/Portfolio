{
 "cells": [
  {
   "cell_type": "markdown",
   "id": "c76ac8fe",
   "metadata": {},
   "source": [
    "# <center>Predicting the Bike Rental</center>\n",
    "<div>\n",
    "<img src=\"Data/Bike_Rental.jpg\" width=\"400\"/>\n",
    "</div>\n",
    "\n",
    "Many U.S. cities have communal bike sharing stations where you can rent bicycles by the hour or day. Washington, D.C. is one of these cities. The District collects detailed data on the number of bicycles people rent by the hour and day.\n",
    "\n",
    "Hadi Fanaee-T at the University of Porto compiled this data into a CSV file, which is what we work with in this project. The file contains <mark>17380</mark> rows, with each row representing the number of bike rentals for a single hour of a single day.\n",
    "\n",
    "Here are the descriptions for the relevant columns:\n",
    "\n",
    "- <mark>instant</mark> - A unique sequential ID number for each row\n",
    "- <mark>dteday</mark> - The date of the rentals\n",
    "- <mark>season</mark> - The season in which the rentals occurred\n",
    "- <mark>yr</mark> - The year the rentals occurred\n",
    "- <mark>mnth</mark> - The month the rentals occurred\n",
    "- <mark>hr</mark> - The hour the rentals occurred\n",
    "- <mark>holiday</mark> - Whether or not the day was a holiday\n",
    "- <mark>weekday</mark> - The day of the week (as a number, 0 to 7)\n",
    "- <mark>workingday</mark> - Whether or not the day was a working day\n",
    "- <mark>weathersit</mark> - The weather (as a categorical variable)\n",
    "- <mark>temp</mark> - The temperature, on a 0-1 scale\n",
    "- <mark>atemp</mark> - The adjusted temperature\n",
    "- <mark>hum</mark> - The humidity, on a 0-1 scale\n",
    "- <mark>windspeed</mark> - The wind speed, on a 0-1 scale\n",
    "- <mark>casual</mark> - The number of casual riders (people who hadn't previously signed up with the bike sharing program)\n",
    "- <mark>registered</mark> - The number of registered riders (people who had already signed up)\n",
    "- <mark>cnt</mark> - The total number of bike rentals (casual + registered)\n",
    "\n",
    "## Project Goals\n",
    "\n",
    "In this project, we will try to predict the total number of bikes people rented in a given hour. We will predict the <mark>cnt</mark> column using all of the other columns, except for <mark>casual</mark> and <mark>registered</mark>. To accomplish this, you'll create a few different machine learning models and evaluate their performance.\n",
    "\n",
    "We will compare the use of a <mark>Linear Regression</mark> algorith and a <mark>Decision Tree</mark> algorithm and discuss why significant differences can occur."
   ]
  },
  {
   "cell_type": "markdown",
   "id": "808a43a3",
   "metadata": {},
   "source": [
    "# Importing Libraries"
   ]
  },
  {
   "cell_type": "code",
   "execution_count": 1,
   "id": "6a28b98a",
   "metadata": {},
   "outputs": [],
   "source": [
    "# Standard Python libraries for data analysis\n",
    "import numpy as np\n",
    "import pandas as pd\n",
    "import matplotlib.pyplot as plt\n",
    "import seaborn as sns\n",
    "import random\n",
    "import datetime as dt\n",
    "\n",
    "# Machine learning libraries and tools\n",
    "from sklearn.linear_model import LinearRegression\n",
    "from sklearn.tree import DecisionTreeRegressor\n",
    "from sklearn.ensemble import RandomForestRegressor\n",
    "\n",
    "# Error Metrics\n",
    "from sklearn.metrics import mean_squared_error\n",
    "from sklearn.metrics import mean_absolute_error\n",
    "from sklearn.model_selection import cross_val_score\n",
    "from sklearn.model_selection import KFold\n",
    "\n",
    "# Dealing with warnings and presentation of dataframes\n",
    "import warnings\n",
    "warnings.filterwarnings('ignore')\n",
    "pd.options.display.max_columns = 99"
   ]
  },
  {
   "cell_type": "markdown",
   "id": "963d05d9",
   "metadata": {},
   "source": [
    "# Reading in the Dataset\n",
    "\n",
    "The data is stored in a csv file <mark>bike_rental_hour.csv</mark>."
   ]
  },
  {
   "cell_type": "code",
   "execution_count": 2,
   "id": "4af48f21",
   "metadata": {},
   "outputs": [],
   "source": [
    "# Reading in the data.\n",
    "rental_data = pd.read_csv('./Data/bike_rental_hour.csv')"
   ]
  },
  {
   "cell_type": "markdown",
   "id": "a985baf5",
   "metadata": {},
   "source": [
    "# Exploring the Dataset"
   ]
  },
  {
   "cell_type": "code",
   "execution_count": 3,
   "id": "3bc708ae",
   "metadata": {},
   "outputs": [
    {
     "data": {
      "text/html": [
       "<div>\n",
       "<style scoped>\n",
       "    .dataframe tbody tr th:only-of-type {\n",
       "        vertical-align: middle;\n",
       "    }\n",
       "\n",
       "    .dataframe tbody tr th {\n",
       "        vertical-align: top;\n",
       "    }\n",
       "\n",
       "    .dataframe thead th {\n",
       "        text-align: right;\n",
       "    }\n",
       "</style>\n",
       "<table border=\"1\" class=\"dataframe\">\n",
       "  <thead>\n",
       "    <tr style=\"text-align: right;\">\n",
       "      <th></th>\n",
       "      <th>instant</th>\n",
       "      <th>dteday</th>\n",
       "      <th>season</th>\n",
       "      <th>yr</th>\n",
       "      <th>mnth</th>\n",
       "      <th>hr</th>\n",
       "      <th>holiday</th>\n",
       "      <th>weekday</th>\n",
       "      <th>workingday</th>\n",
       "      <th>weathersit</th>\n",
       "      <th>temp</th>\n",
       "      <th>atemp</th>\n",
       "      <th>hum</th>\n",
       "      <th>windspeed</th>\n",
       "      <th>casual</th>\n",
       "      <th>registered</th>\n",
       "      <th>cnt</th>\n",
       "    </tr>\n",
       "  </thead>\n",
       "  <tbody>\n",
       "    <tr>\n",
       "      <th>0</th>\n",
       "      <td>1</td>\n",
       "      <td>2011-01-01</td>\n",
       "      <td>1</td>\n",
       "      <td>0</td>\n",
       "      <td>1</td>\n",
       "      <td>0</td>\n",
       "      <td>0</td>\n",
       "      <td>6</td>\n",
       "      <td>0</td>\n",
       "      <td>1</td>\n",
       "      <td>0.24</td>\n",
       "      <td>0.2879</td>\n",
       "      <td>0.81</td>\n",
       "      <td>0.0</td>\n",
       "      <td>3</td>\n",
       "      <td>13</td>\n",
       "      <td>16</td>\n",
       "    </tr>\n",
       "    <tr>\n",
       "      <th>1</th>\n",
       "      <td>2</td>\n",
       "      <td>2011-01-01</td>\n",
       "      <td>1</td>\n",
       "      <td>0</td>\n",
       "      <td>1</td>\n",
       "      <td>1</td>\n",
       "      <td>0</td>\n",
       "      <td>6</td>\n",
       "      <td>0</td>\n",
       "      <td>1</td>\n",
       "      <td>0.22</td>\n",
       "      <td>0.2727</td>\n",
       "      <td>0.80</td>\n",
       "      <td>0.0</td>\n",
       "      <td>8</td>\n",
       "      <td>32</td>\n",
       "      <td>40</td>\n",
       "    </tr>\n",
       "    <tr>\n",
       "      <th>2</th>\n",
       "      <td>3</td>\n",
       "      <td>2011-01-01</td>\n",
       "      <td>1</td>\n",
       "      <td>0</td>\n",
       "      <td>1</td>\n",
       "      <td>2</td>\n",
       "      <td>0</td>\n",
       "      <td>6</td>\n",
       "      <td>0</td>\n",
       "      <td>1</td>\n",
       "      <td>0.22</td>\n",
       "      <td>0.2727</td>\n",
       "      <td>0.80</td>\n",
       "      <td>0.0</td>\n",
       "      <td>5</td>\n",
       "      <td>27</td>\n",
       "      <td>32</td>\n",
       "    </tr>\n",
       "    <tr>\n",
       "      <th>3</th>\n",
       "      <td>4</td>\n",
       "      <td>2011-01-01</td>\n",
       "      <td>1</td>\n",
       "      <td>0</td>\n",
       "      <td>1</td>\n",
       "      <td>3</td>\n",
       "      <td>0</td>\n",
       "      <td>6</td>\n",
       "      <td>0</td>\n",
       "      <td>1</td>\n",
       "      <td>0.24</td>\n",
       "      <td>0.2879</td>\n",
       "      <td>0.75</td>\n",
       "      <td>0.0</td>\n",
       "      <td>3</td>\n",
       "      <td>10</td>\n",
       "      <td>13</td>\n",
       "    </tr>\n",
       "    <tr>\n",
       "      <th>4</th>\n",
       "      <td>5</td>\n",
       "      <td>2011-01-01</td>\n",
       "      <td>1</td>\n",
       "      <td>0</td>\n",
       "      <td>1</td>\n",
       "      <td>4</td>\n",
       "      <td>0</td>\n",
       "      <td>6</td>\n",
       "      <td>0</td>\n",
       "      <td>1</td>\n",
       "      <td>0.24</td>\n",
       "      <td>0.2879</td>\n",
       "      <td>0.75</td>\n",
       "      <td>0.0</td>\n",
       "      <td>0</td>\n",
       "      <td>1</td>\n",
       "      <td>1</td>\n",
       "    </tr>\n",
       "  </tbody>\n",
       "</table>\n",
       "</div>"
      ],
      "text/plain": [
       "   instant      dteday  season  yr  mnth  hr  holiday  weekday  workingday  \\\n",
       "0        1  2011-01-01       1   0     1   0        0        6           0   \n",
       "1        2  2011-01-01       1   0     1   1        0        6           0   \n",
       "2        3  2011-01-01       1   0     1   2        0        6           0   \n",
       "3        4  2011-01-01       1   0     1   3        0        6           0   \n",
       "4        5  2011-01-01       1   0     1   4        0        6           0   \n",
       "\n",
       "   weathersit  temp   atemp   hum  windspeed  casual  registered  cnt  \n",
       "0           1  0.24  0.2879  0.81        0.0       3          13   16  \n",
       "1           1  0.22  0.2727  0.80        0.0       8          32   40  \n",
       "2           1  0.22  0.2727  0.80        0.0       5          27   32  \n",
       "3           1  0.24  0.2879  0.75        0.0       3          10   13  \n",
       "4           1  0.24  0.2879  0.75        0.0       0           1    1  "
      ]
     },
     "execution_count": 3,
     "metadata": {},
     "output_type": "execute_result"
    }
   ],
   "source": [
    "# Looking at the data structure using head()\n",
    "rental_data.head()"
   ]
  },
  {
   "cell_type": "code",
   "execution_count": 4,
   "id": "c85efaee",
   "metadata": {
    "scrolled": true
   },
   "outputs": [
    {
     "name": "stdout",
     "output_type": "stream",
     "text": [
      "The most rentals at any one time is: 977\n"
     ]
    },
    {
     "data": {
      "image/png": "[encoded data removed]",
      "text/plain": [
       "<Figure size 432x288 with 1 Axes>"
      ]
     },
     "metadata": {
      "needs_background": "light"
     },
     "output_type": "display_data"
    }
   ],
   "source": [
    "# Plotting a histogram of the total number of hired bikes at any one time.\n",
    "plt.hist(rental_data['cnt'])\n",
    "\n",
    "# Finding the maximum number of bike rentals at any one time\n",
    "print(\"The most rentals at any one time is: \" + str(rental_data['cnt'].max()))"
   ]
  },
  {
   "cell_type": "markdown",
   "id": "16e695cb",
   "metadata": {},
   "source": [
    "# Observations\n",
    "\n",
    "We can see that most frequently there are between 0 and 100 bike rentals at any one time. the most concurrrent bike rentals at any one time is 977.\n",
    "\n",
    "Next we are going to look at what factors have the strongest correlation with the concurrent number of bike rentals:"
   ]
  },
  {
   "cell_type": "code",
   "execution_count": 5,
   "id": "7dd0cf49",
   "metadata": {},
   "outputs": [
    {
     "data": {
      "text/plain": [
       "instant       0.278379\n",
       "season        0.178056\n",
       "yr            0.250495\n",
       "mnth          0.120638\n",
       "hr            0.394071\n",
       "holiday      -0.030927\n",
       "weekday       0.026900\n",
       "workingday    0.030284\n",
       "weathersit   -0.142426\n",
       "temp          0.404772\n",
       "atemp         0.400929\n",
       "hum          -0.322911\n",
       "windspeed     0.093234\n",
       "casual        0.694564\n",
       "registered    0.972151\n",
       "cnt           1.000000\n",
       "Name: cnt, dtype: float64"
      ]
     },
     "execution_count": 5,
     "metadata": {},
     "output_type": "execute_result"
    }
   ],
   "source": [
    "# Finding the correlation of different variables with the concurrent bike rentals\n",
    "rental_data.corr()['cnt']"
   ]
  },
  {
   "cell_type": "markdown",
   "id": "fbfb2f33",
   "metadata": {},
   "source": [
    "# Observations\n",
    "\n",
    "Ignoring the registration types (<mark>casual</mark> and <mark>registered</mark>), we can see that the factor with the strongest correlation to bike rentals is the <mark>temp</mark> (temperature), which has a postitive correlation coeffecient of <mark>0.404</mark>. This makes sense as people are more likely to hire bikes when the temperature favours biking / being active outdoors. People will tend to avoid biking when it is too cold or extremely hot. This ties in with <mark>hum</mark>, <mark>weathersit</mark>, and <mark>season</mark>, which will have influence on the temperature and weather conditions that are favourable for biking.\n",
    "\n",
    "Another strong correlation is <mark>hr</mark> (time of day), with a positive correlation coeffecient of <mark>0.394</mark>. Bikes are more likely to be hired during the daylight hours, when it is safer to bike, and also around business hours when people are going about the daily routines.\n"
   ]
  },
  {
   "cell_type": "markdown",
   "id": "0d3f887b",
   "metadata": {},
   "source": [
    "# Creating Data Features\n",
    "\n",
    "It can often be helpful to calculate features before applying machine learning models. Features can enhance the accuracy of models by introducing new information or distilling existing information.\n",
    "\n",
    "The <mark>hr</mark> column in bike_rentals contains the hours during which bikes are rented, from 1 to 24. A machine treats each hour differently, without understanding that certain hours are related. We are going to introduce some order into the process by creating a new column with labels for morning, afternoon, evening, and night. This bundles similar times together, enabling the model to make better decisions.\n",
    "\n",
    "We will do this by creating a function that takes the numeric hour value and classify it as morning (<mark>1</mark>), afternoon (<mark>2</mark>), evening (<mark>3</mark>), or night (<mark>4</mark>)."
   ]
  },
  {
   "cell_type": "code",
   "execution_count": 6,
   "id": "24b45c64",
   "metadata": {},
   "outputs": [],
   "source": [
    "# Defining function to convert 24 hour time into a category (morning 1, afternoon 2, evening 3, or night 4)\n",
    "\n",
    "def assign_label(hour):\n",
    "    if 6 <= hour < 12:\n",
    "        return 1\n",
    "    if 12 <= hour < 18:\n",
    "        return 2\n",
    "    if 18 <= hour < 24:\n",
    "        return 3\n",
    "    if 0 <= hour < 6:\n",
    "        return 4"
   ]
  },
  {
   "cell_type": "markdown",
   "id": "1f00c413",
   "metadata": {},
   "source": [
    "Applying this function to the data to generate a new categorised column representing the time of day (<mark>time_label</mark>)."
   ]
  },
  {
   "cell_type": "code",
   "execution_count": 7,
   "id": "4adf19f7",
   "metadata": {
    "scrolled": true
   },
   "outputs": [
    {
     "data": {
      "text/html": [
       "<div>\n",
       "<style scoped>\n",
       "    .dataframe tbody tr th:only-of-type {\n",
       "        vertical-align: middle;\n",
       "    }\n",
       "\n",
       "    .dataframe tbody tr th {\n",
       "        vertical-align: top;\n",
       "    }\n",
       "\n",
       "    .dataframe thead th {\n",
       "        text-align: right;\n",
       "    }\n",
       "</style>\n",
       "<table border=\"1\" class=\"dataframe\">\n",
       "  <thead>\n",
       "    <tr style=\"text-align: right;\">\n",
       "      <th></th>\n",
       "      <th>instant</th>\n",
       "      <th>dteday</th>\n",
       "      <th>season</th>\n",
       "      <th>yr</th>\n",
       "      <th>mnth</th>\n",
       "      <th>hr</th>\n",
       "      <th>holiday</th>\n",
       "      <th>weekday</th>\n",
       "      <th>workingday</th>\n",
       "      <th>weathersit</th>\n",
       "      <th>temp</th>\n",
       "      <th>atemp</th>\n",
       "      <th>hum</th>\n",
       "      <th>windspeed</th>\n",
       "      <th>casual</th>\n",
       "      <th>registered</th>\n",
       "      <th>cnt</th>\n",
       "      <th>time_label</th>\n",
       "    </tr>\n",
       "  </thead>\n",
       "  <tbody>\n",
       "    <tr>\n",
       "      <th>0</th>\n",
       "      <td>1</td>\n",
       "      <td>2011-01-01</td>\n",
       "      <td>1</td>\n",
       "      <td>0</td>\n",
       "      <td>1</td>\n",
       "      <td>0</td>\n",
       "      <td>0</td>\n",
       "      <td>6</td>\n",
       "      <td>0</td>\n",
       "      <td>1</td>\n",
       "      <td>0.24</td>\n",
       "      <td>0.2879</td>\n",
       "      <td>0.81</td>\n",
       "      <td>0.0000</td>\n",
       "      <td>3</td>\n",
       "      <td>13</td>\n",
       "      <td>16</td>\n",
       "      <td>4</td>\n",
       "    </tr>\n",
       "    <tr>\n",
       "      <th>1</th>\n",
       "      <td>2</td>\n",
       "      <td>2011-01-01</td>\n",
       "      <td>1</td>\n",
       "      <td>0</td>\n",
       "      <td>1</td>\n",
       "      <td>1</td>\n",
       "      <td>0</td>\n",
       "      <td>6</td>\n",
       "      <td>0</td>\n",
       "      <td>1</td>\n",
       "      <td>0.22</td>\n",
       "      <td>0.2727</td>\n",
       "      <td>0.80</td>\n",
       "      <td>0.0000</td>\n",
       "      <td>8</td>\n",
       "      <td>32</td>\n",
       "      <td>40</td>\n",
       "      <td>4</td>\n",
       "    </tr>\n",
       "    <tr>\n",
       "      <th>2</th>\n",
       "      <td>3</td>\n",
       "      <td>2011-01-01</td>\n",
       "      <td>1</td>\n",
       "      <td>0</td>\n",
       "      <td>1</td>\n",
       "      <td>2</td>\n",
       "      <td>0</td>\n",
       "      <td>6</td>\n",
       "      <td>0</td>\n",
       "      <td>1</td>\n",
       "      <td>0.22</td>\n",
       "      <td>0.2727</td>\n",
       "      <td>0.80</td>\n",
       "      <td>0.0000</td>\n",
       "      <td>5</td>\n",
       "      <td>27</td>\n",
       "      <td>32</td>\n",
       "      <td>4</td>\n",
       "    </tr>\n",
       "    <tr>\n",
       "      <th>3</th>\n",
       "      <td>4</td>\n",
       "      <td>2011-01-01</td>\n",
       "      <td>1</td>\n",
       "      <td>0</td>\n",
       "      <td>1</td>\n",
       "      <td>3</td>\n",
       "      <td>0</td>\n",
       "      <td>6</td>\n",
       "      <td>0</td>\n",
       "      <td>1</td>\n",
       "      <td>0.24</td>\n",
       "      <td>0.2879</td>\n",
       "      <td>0.75</td>\n",
       "      <td>0.0000</td>\n",
       "      <td>3</td>\n",
       "      <td>10</td>\n",
       "      <td>13</td>\n",
       "      <td>4</td>\n",
       "    </tr>\n",
       "    <tr>\n",
       "      <th>4</th>\n",
       "      <td>5</td>\n",
       "      <td>2011-01-01</td>\n",
       "      <td>1</td>\n",
       "      <td>0</td>\n",
       "      <td>1</td>\n",
       "      <td>4</td>\n",
       "      <td>0</td>\n",
       "      <td>6</td>\n",
       "      <td>0</td>\n",
       "      <td>1</td>\n",
       "      <td>0.24</td>\n",
       "      <td>0.2879</td>\n",
       "      <td>0.75</td>\n",
       "      <td>0.0000</td>\n",
       "      <td>0</td>\n",
       "      <td>1</td>\n",
       "      <td>1</td>\n",
       "      <td>4</td>\n",
       "    </tr>\n",
       "    <tr>\n",
       "      <th>5</th>\n",
       "      <td>6</td>\n",
       "      <td>2011-01-01</td>\n",
       "      <td>1</td>\n",
       "      <td>0</td>\n",
       "      <td>1</td>\n",
       "      <td>5</td>\n",
       "      <td>0</td>\n",
       "      <td>6</td>\n",
       "      <td>0</td>\n",
       "      <td>2</td>\n",
       "      <td>0.24</td>\n",
       "      <td>0.2576</td>\n",
       "      <td>0.75</td>\n",
       "      <td>0.0896</td>\n",
       "      <td>0</td>\n",
       "      <td>1</td>\n",
       "      <td>1</td>\n",
       "      <td>4</td>\n",
       "    </tr>\n",
       "    <tr>\n",
       "      <th>6</th>\n",
       "      <td>7</td>\n",
       "      <td>2011-01-01</td>\n",
       "      <td>1</td>\n",
       "      <td>0</td>\n",
       "      <td>1</td>\n",
       "      <td>6</td>\n",
       "      <td>0</td>\n",
       "      <td>6</td>\n",
       "      <td>0</td>\n",
       "      <td>1</td>\n",
       "      <td>0.22</td>\n",
       "      <td>0.2727</td>\n",
       "      <td>0.80</td>\n",
       "      <td>0.0000</td>\n",
       "      <td>2</td>\n",
       "      <td>0</td>\n",
       "      <td>2</td>\n",
       "      <td>1</td>\n",
       "    </tr>\n",
       "    <tr>\n",
       "      <th>7</th>\n",
       "      <td>8</td>\n",
       "      <td>2011-01-01</td>\n",
       "      <td>1</td>\n",
       "      <td>0</td>\n",
       "      <td>1</td>\n",
       "      <td>7</td>\n",
       "      <td>0</td>\n",
       "      <td>6</td>\n",
       "      <td>0</td>\n",
       "      <td>1</td>\n",
       "      <td>0.20</td>\n",
       "      <td>0.2576</td>\n",
       "      <td>0.86</td>\n",
       "      <td>0.0000</td>\n",
       "      <td>1</td>\n",
       "      <td>2</td>\n",
       "      <td>3</td>\n",
       "      <td>1</td>\n",
       "    </tr>\n",
       "    <tr>\n",
       "      <th>8</th>\n",
       "      <td>9</td>\n",
       "      <td>2011-01-01</td>\n",
       "      <td>1</td>\n",
       "      <td>0</td>\n",
       "      <td>1</td>\n",
       "      <td>8</td>\n",
       "      <td>0</td>\n",
       "      <td>6</td>\n",
       "      <td>0</td>\n",
       "      <td>1</td>\n",
       "      <td>0.24</td>\n",
       "      <td>0.2879</td>\n",
       "      <td>0.75</td>\n",
       "      <td>0.0000</td>\n",
       "      <td>1</td>\n",
       "      <td>7</td>\n",
       "      <td>8</td>\n",
       "      <td>1</td>\n",
       "    </tr>\n",
       "    <tr>\n",
       "      <th>9</th>\n",
       "      <td>10</td>\n",
       "      <td>2011-01-01</td>\n",
       "      <td>1</td>\n",
       "      <td>0</td>\n",
       "      <td>1</td>\n",
       "      <td>9</td>\n",
       "      <td>0</td>\n",
       "      <td>6</td>\n",
       "      <td>0</td>\n",
       "      <td>1</td>\n",
       "      <td>0.32</td>\n",
       "      <td>0.3485</td>\n",
       "      <td>0.76</td>\n",
       "      <td>0.0000</td>\n",
       "      <td>8</td>\n",
       "      <td>6</td>\n",
       "      <td>14</td>\n",
       "      <td>1</td>\n",
       "    </tr>\n",
       "  </tbody>\n",
       "</table>\n",
       "</div>"
      ],
      "text/plain": [
       "   instant      dteday  season  yr  mnth  hr  holiday  weekday  workingday  \\\n",
       "0        1  2011-01-01       1   0     1   0        0        6           0   \n",
       "1        2  2011-01-01       1   0     1   1        0        6           0   \n",
       "2        3  2011-01-01       1   0     1   2        0        6           0   \n",
       "3        4  2011-01-01       1   0     1   3        0        6           0   \n",
       "4        5  2011-01-01       1   0     1   4        0        6           0   \n",
       "5        6  2011-01-01       1   0     1   5        0        6           0   \n",
       "6        7  2011-01-01       1   0     1   6        0        6           0   \n",
       "7        8  2011-01-01       1   0     1   7        0        6           0   \n",
       "8        9  2011-01-01       1   0     1   8        0        6           0   \n",
       "9       10  2011-01-01       1   0     1   9        0        6           0   \n",
       "\n",
       "   weathersit  temp   atemp   hum  windspeed  casual  registered  cnt  \\\n",
       "0           1  0.24  0.2879  0.81     0.0000       3          13   16   \n",
       "1           1  0.22  0.2727  0.80     0.0000       8          32   40   \n",
       "2           1  0.22  0.2727  0.80     0.0000       5          27   32   \n",
       "3           1  0.24  0.2879  0.75     0.0000       3          10   13   \n",
       "4           1  0.24  0.2879  0.75     0.0000       0           1    1   \n",
       "5           2  0.24  0.2576  0.75     0.0896       0           1    1   \n",
       "6           1  0.22  0.2727  0.80     0.0000       2           0    2   \n",
       "7           1  0.20  0.2576  0.86     0.0000       1           2    3   \n",
       "8           1  0.24  0.2879  0.75     0.0000       1           7    8   \n",
       "9           1  0.32  0.3485  0.76     0.0000       8           6   14   \n",
       "\n",
       "   time_label  \n",
       "0           4  \n",
       "1           4  \n",
       "2           4  \n",
       "3           4  \n",
       "4           4  \n",
       "5           4  \n",
       "6           1  \n",
       "7           1  \n",
       "8           1  \n",
       "9           1  "
      ]
     },
     "execution_count": 7,
     "metadata": {},
     "output_type": "execute_result"
    }
   ],
   "source": [
    "# Applying function to the 'hr' column and assigning the categorised result to a new data column 'time_label'\n",
    "rental_data['time_label'] = rental_data['hr'].apply(assign_label)\n",
    "\n",
    "# Looking at the first 10 entries to see that the function has worked as expeceted\n",
    "rental_data.head(10)"
   ]
  },
  {
   "cell_type": "markdown",
   "id": "6473473f",
   "metadata": {},
   "source": [
    "# Partitioning into Training and Testing Datasets\n",
    "\n",
    "Before we can begin applying machine learning algorithms, we need to split the data into training and testing sets. This will enable us to train an algorithm using the training set, and evaluate its accuracy on the testing set.\n",
    "\n",
    "We are going to divide the data so that 80% of the dataset is in the training set, while the remaining 20% is in the test dataset. As this is continuous data, we do not want to do a straight split. Instead we will randomly sample the dataset, this will reduce bias in our data.\n",
    "\n",
    "When evaluating the error of our machine learning algorithm, we are going to assess the fit based on mean squared error (<mark>MSE</mark>), which works well on continuous data."
   ]
  },
  {
   "cell_type": "code",
   "execution_count": 8,
   "id": "b0f9dfd2",
   "metadata": {},
   "outputs": [],
   "source": [
    "# Creating a training dataset with 80% of the overall dataset\n",
    "training = rental_data.sample(frac=0.8)\n",
    "\n",
    "# We want the remaining data to be that which IS NOT in the training dataset\n",
    "test = rental_data[~rental_data.index.isin(training.index)]"
   ]
  },
  {
   "cell_type": "markdown",
   "id": "d79be966",
   "metadata": {},
   "source": [
    "Checking that the total of the test and train datasets matches that of the overall dataset."
   ]
  },
  {
   "cell_type": "code",
   "execution_count": 9,
   "id": "0f17cfe6",
   "metadata": {},
   "outputs": [
    {
     "name": "stdout",
     "output_type": "stream",
     "text": [
      "The combined length of the training and test datasets are: 17379\n",
      "The total length of the overall dataset is: 17379\n"
     ]
    }
   ],
   "source": [
    "print(\"The combined length of the training and test datasets are: \" + str(len(training)+len(test)))\n",
    "print(\"The total length of the overall dataset is: \" + str(len(rental_data)))"
   ]
  },
  {
   "cell_type": "markdown",
   "id": "da7e6d18",
   "metadata": {},
   "source": [
    "# Applying Linear Regression\n",
    "\n",
    "We are first going to apply a linear regression to the data. Linear regression should work fairly well on this data, given that many of the columns are highly correlated with <mark>cnt</mark>.\n",
    "\n",
    "We'll need to ignore the <mark>casual</mark> and <mark>registered</mark> columns because <mark>cnt</mark> is derived from them. If we're trying to predict the number of people who rent bikes in a given hour (<mark>cnt</mark>), it doesn't make sense that we'd already know casual or registered, because those numbers are added together to get <mark>cnt</mark>."
   ]
  },
  {
   "cell_type": "code",
   "execution_count": 10,
   "id": "3b2b296a",
   "metadata": {},
   "outputs": [
    {
     "name": "stdout",
     "output_type": "stream",
     "text": [
      "['instant', 'season', 'yr', 'mnth', 'hr', 'holiday', 'weekday', 'workingday', 'weathersit', 'temp', 'atemp', 'hum', 'windspeed', 'time_label']\n"
     ]
    }
   ],
   "source": [
    "# Creating a list of predictor columns to use in training and predictions.\n",
    "predictors = list(rental_data.columns)\n",
    "\n",
    "# We want to exclude some data, including casual, registered, cnt (target column), dteday\n",
    "predictors.remove('dteday')\n",
    "predictors.remove('cnt')\n",
    "predictors.remove('registered')\n",
    "predictors.remove('casual')\n",
    "\n",
    "print(predictors)"
   ]
  },
  {
   "cell_type": "markdown",
   "id": "ed2f1f95",
   "metadata": {},
   "source": [
    "# Training and Testing the Linear Regression Model"
   ]
  },
  {
   "cell_type": "code",
   "execution_count": 11,
   "id": "35cb8144",
   "metadata": {},
   "outputs": [
    {
     "name": "stdout",
     "output_type": "stream",
     "text": [
      "The MSE value is: 17919.92\n"
     ]
    }
   ],
   "source": [
    "# Instantiating the linear regression model\n",
    "lr = LinearRegression()\n",
    "\n",
    "# Fitting the model on the training dataset\n",
    "lr.fit(training[predictors], training['cnt'])\n",
    "\n",
    "# Predicting cnt values using the Linear Regression model we just fitted\n",
    "cnt_predicted = lr.predict(test[predictors])\n",
    "\n",
    "# Calculating the mean square error (MSE)\n",
    "MSE = mean_squared_error(test['cnt'], cnt_predicted)\n",
    "\n",
    "# Printing the MSE\n",
    "print(\"The MSE value is: \" + str(round((MSE),2)))"
   ]
  },
  {
   "cell_type": "markdown",
   "id": "9acf0a28",
   "metadata": {},
   "source": [
    "# Observations\n",
    "\n",
    "The error is very high. The answer may be found in the extreme range of values for <mark>cnt</mark> seen in the histogram plotted earlier. The data is right-skewed toward lower <mark>cnt</mark> values, with very few large numbers of concurrent bike rentals. The inability to predict these larger nubmers in the dataset are penalised with large <mark>MSE</mark> values."
   ]
  },
  {
   "cell_type": "markdown",
   "id": "20a7321f",
   "metadata": {},
   "source": [
    "# Applying a Decision Tree Algorithm\n",
    "\n",
    "We're now ready to apply the decision tree algorithm. We'll be able to compare the decision tree algorithm error with the error from linear regression, which will enable us to pick the right algorithm for this dataset.\n",
    "\n",
    "Decision trees tend to predict outcomes much more reliably than linear regression models, because a decision tree is a fairly complex model, it also tends to overfit, particularly when we don't tweak parameters like maximum depth and minimum number of samples per leaf. Decision trees are also prone to instability - small changes in the input data can result in a very different output model."
   ]
  },
  {
   "cell_type": "markdown",
   "id": "418ab2ad",
   "metadata": {},
   "source": [
    "# Training and Testing the Decision Tree Model"
   ]
  },
  {
   "cell_type": "code",
   "execution_count": 12,
   "id": "9e048c88",
   "metadata": {},
   "outputs": [
    {
     "name": "stdout",
     "output_type": "stream",
     "text": [
      "The MSE value is: 3237.47\n"
     ]
    }
   ],
   "source": [
    "# Instantiating the decision tree model\n",
    "dt = DecisionTreeRegressor()\n",
    "\n",
    "# Fitting the model on the training dataset\n",
    "dt.fit(training[predictors], training['cnt'])\n",
    "\n",
    "# Predicting cnt values using the Decision Tree model we just fitted\n",
    "cnt_predicted = dt.predict(test[predictors])\n",
    "\n",
    "# Calculating the mean square error (MSE)\n",
    "MSE = mean_squared_error(test['cnt'], cnt_predicted)\n",
    "\n",
    "# Printing the MSE\n",
    "print(\"The MSE value is: \" + str(round((MSE),2)))"
   ]
  },
  {
   "cell_type": "markdown",
   "id": "d7809fe1",
   "metadata": {},
   "source": [
    "# Observations\n",
    "\n",
    "We can see that we have had a six fold reduction in the <mark>MSE</mark> from the Linear Regression model. It is clear that the Decision Tree algorithm is doing a better job of predicting the <mark>cnt</mark> value. We are going to do some parameter testing to see if we can improve the model fit.\n",
    "\n",
    "# Hyper parameterisation\n",
    "\n",
    "We are going to look at the effect of changing the <mark>max_depth</mark>, <mark>min_samples_leaf</mark>, and <mark>min_samples_split</mark>. To do this we are going to write function for testing a range of values for each parameter."
   ]
  },
  {
   "cell_type": "code",
   "execution_count": 13,
   "id": "010e1464",
   "metadata": {},
   "outputs": [
    {
     "name": "stdout",
     "output_type": "stream",
     "text": [
      "The MSE value of the trained Decision Tree, when using a max_depth of 1 is: 23702.46\n",
      "The MSE value of the trained Decision Tree, when using a max_depth of 5 is: 12295.63\n",
      "The MSE value of the trained Decision Tree, when using a max_depth of 10 is: 3578.11\n",
      "The MSE value of the trained Decision Tree, when using a max_depth of 50 is: 3029.82\n",
      "The MSE value of the trained Decision Tree, when using a max_depth of 100 is: 3245.95\n"
     ]
    }
   ],
   "source": [
    "# Defining a function to test a range of max_depth parameterisations\n",
    "def test_tree_md(parameter_list):\n",
    "    for i in parameter_list:\n",
    "        # Instantiating the decision tree model, we are specifying the max_depth from the instance called (i) from the input\n",
    "        # parameter_list.\n",
    "        dt = DecisionTreeRegressor(max_depth=i)\n",
    "        \n",
    "        # Fitting the model on the training dataset\n",
    "        dt.fit(training[predictors], training['cnt'])\n",
    "        \n",
    "        # Predicting cnt values using the Decision Tree model we just fitted\n",
    "        cnt_predicted = dt.predict(test[predictors])\n",
    "        \n",
    "        # Calculating the mean square error (MSE)\n",
    "        MSE = mean_squared_error(test['cnt'], cnt_predicted)\n",
    "        \n",
    "        # Printing the MSE\n",
    "        print(\"The MSE value of the trained Decision Tree, when using a max_depth of \" + str(i) + \" is: \" + str(round((MSE),2)))\n",
    "\n",
    "# Listing the parameters we want to test for max_depth\n",
    "parameter_list = [1,5,10,50,100]\n",
    "\n",
    "# Testing these parameter values with our function.\n",
    "test_tree_md(parameter_list)"
   ]
  },
  {
   "cell_type": "code",
   "execution_count": 14,
   "id": "e666201f",
   "metadata": {},
   "outputs": [
    {
     "name": "stdout",
     "output_type": "stream",
     "text": [
      "The MSE value of the trained Decision Tree, when using a min_samples_leaf of 1 is: 3296.88\n",
      "The MSE value of the trained Decision Tree, when using a min_samples_leaf of 2 is: 3001.43\n",
      "The MSE value of the trained Decision Tree, when using a min_samples_leaf of 5 is: 2718.39\n",
      "The MSE value of the trained Decision Tree, when using a min_samples_leaf of 10 is: 2717.55\n",
      "The MSE value of the trained Decision Tree, when using a min_samples_leaf of 50 is: 4255.01\n"
     ]
    }
   ],
   "source": [
    "# Defining a function to test a range of min_samples_leaf parameterisations\n",
    "def test_tree_msl(parameter_list):\n",
    "    for i in parameter_list:\n",
    "        # Instantiating the decision tree model, we are specifying the min_samples_leaf from the instance called (i) from the \n",
    "        # input parameter_list.\n",
    "        dt = DecisionTreeRegressor(min_samples_leaf=i)\n",
    "        \n",
    "        # Fitting the model on the training dataset\n",
    "        dt.fit(training[predictors], training['cnt'])\n",
    "        \n",
    "        # Predicting cnt values using the Decision Tree model we just fitted\n",
    "        cnt_predicted = dt.predict(test[predictors])\n",
    "        \n",
    "        # Calculating the mean square error (MSE)\n",
    "        MSE = mean_squared_error(test['cnt'], cnt_predicted)\n",
    "        \n",
    "        # Printing the MSE\n",
    "        print(\"The MSE value of the trained Decision Tree, when using a min_samples_leaf of \" \n",
    "              + str(i) + \" is: \" + str(round((MSE),2)))\n",
    "\n",
    "# Listing the parameters we want to test for min_samples_leaf\n",
    "parameter_list = [1,2,5,10,50]\n",
    "\n",
    "# Testing these parameter values with our function.\n",
    "test_tree_msl(parameter_list)"
   ]
  },
  {
   "cell_type": "code",
   "execution_count": 15,
   "id": "5b24ba1a",
   "metadata": {},
   "outputs": [
    {
     "name": "stdout",
     "output_type": "stream",
     "text": [
      "The MSE value of the trained Decision Tree, when using a min_samples_split of 2 is: 3248.87\n",
      "The MSE value of the trained Decision Tree, when using a min_samples_split of 5 is: 3079.51\n",
      "The MSE value of the trained Decision Tree, when using a min_samples_split of 10 is: 2865.17\n",
      "The MSE value of the trained Decision Tree, when using a min_samples_split of 50 is: 2968.46\n",
      "The MSE value of the trained Decision Tree, when using a min_samples_split of 100 is: 3410.76\n"
     ]
    }
   ],
   "source": [
    "# Defining a function to test a range of min_samples_split parameterisations\n",
    "def test_tree_mss(parameter_list):\n",
    "    for i in parameter_list:\n",
    "        # Instantiating the decision tree model, we are specifying the min_samples_split from the instance called (i) from the \n",
    "        # input parameter_list.\n",
    "        dt = DecisionTreeRegressor(min_samples_split=i)\n",
    "        \n",
    "        # Fitting the model on the training dataset\n",
    "        dt.fit(training[predictors], training['cnt'])\n",
    "        \n",
    "        # Predicting cnt values using the Decision Tree model we just fitted\n",
    "        cnt_predicted = dt.predict(test[predictors])\n",
    "        \n",
    "        # Calculating the mean square error (MSE)\n",
    "        MSE = mean_squared_error(test['cnt'], cnt_predicted)\n",
    "        \n",
    "        # Printing the MSE\n",
    "        print(\"The MSE value of the trained Decision Tree, when using a min_samples_split of \" + str(i) + \" is: \" + str(round((MSE),2)))\n",
    "\n",
    "# Listing the parameters we want to test for min_samples_split\n",
    "parameter_list = [2,5,10,50,100]\n",
    "\n",
    "# Testing these parameter values with our function.\n",
    "test_tree_mss(parameter_list)"
   ]
  },
  {
   "cell_type": "markdown",
   "id": "fcb6b4e0",
   "metadata": {},
   "source": [
    "# Results\n",
    "\n",
    "We can see that different parameterisations results in variations in the <mark>MSE</mark>. <mark>max_depth</mark> has the smalled <mark>MSE</mark> when using a depth of 10. <mark>min_samples_leaf</mark> has the lowest <mark>MSE</mark> when there are minimum of 5 samples per leaf. The optimal number for <mark>min_samples_split</mark> is 50.\n",
    "\n",
    "However, these numbers have been derived in a very heurestic way. We could explore the parameterisation in a much more focussed way, but is beyond the scope of this project.\n",
    "\n",
    "We can no use these optimal parameterisations in combination to see the result on the <mark>MSE</mark>"
   ]
  },
  {
   "cell_type": "code",
   "execution_count": 16,
   "id": "f54ae5cc",
   "metadata": {},
   "outputs": [
    {
     "name": "stdout",
     "output_type": "stream",
     "text": [
      "The MSE value is: 3634.51\n"
     ]
    }
   ],
   "source": [
    "# Instantiating the decision tree model\n",
    "dt = DecisionTreeRegressor(min_samples_split=50,min_samples_leaf=5,max_depth=10)\n",
    "\n",
    "# Fitting the model on the training dataset\n",
    "dt.fit(training[predictors], training['cnt'])\n",
    "\n",
    "# Predicting cnt values using the Decision Tree model we just fitted\n",
    "cnt_predicted = dt.predict(test[predictors])\n",
    "\n",
    "# Calculating the mean square error (MSE)\n",
    "MSE = mean_squared_error(test['cnt'], cnt_predicted)\n",
    "\n",
    "# Printing the MSE\n",
    "print(\"The MSE value is: \" + str(round((MSE),2)))"
   ]
  },
  {
   "cell_type": "markdown",
   "id": "89e7a002",
   "metadata": {},
   "source": [
    "# Observations\n",
    "\n",
    "We can see that even when usng the optimal parameters found through the hyper parameterisation, the <mark>MSE</mark> is still higher than that found with no parameterisation. It could be that in combination, the parameterisation are interferring with one another, or that we are preventing over-fitting to the training dataset."
   ]
  },
  {
   "cell_type": "markdown",
   "id": "f312515a",
   "metadata": {},
   "source": [
    "# Applying a Random Forest Algorithm\n",
    "\n",
    "We are finally going to apply the random forest algorithm, which improves on the decision tree algorithm. Random forests tend to be much more accurate than simple models like linear regression. Due to the way random forests are constructed, they tend to overfit much less than decision trees. Random forests are prone to overfitting, so it's important to tune parameters like maximum depth and minimum samples per leaf."
   ]
  },
  {
   "cell_type": "code",
   "execution_count": 17,
   "id": "b38d5372",
   "metadata": {},
   "outputs": [
    {
     "name": "stdout",
     "output_type": "stream",
     "text": [
      "The MSE value is: 1737.24\n"
     ]
    }
   ],
   "source": [
    "# Instantiating the random forest model\n",
    "rf = RandomForestRegressor()\n",
    "\n",
    "# Fitting the model on the training dataset\n",
    "rf.fit(training[predictors], training['cnt'])\n",
    "\n",
    "# Predicting cnt values using the Decision Tree model we just fitted\n",
    "cnt_predicted = rf.predict(test[predictors])\n",
    "\n",
    "# Calculating the mean square error (MSE)\n",
    "MSE = mean_squared_error(test['cnt'], cnt_predicted)\n",
    "\n",
    "# Printing the MSE\n",
    "print(\"The MSE value is: \" + str(round((MSE),2)))"
   ]
  },
  {
   "cell_type": "markdown",
   "id": "b5080aec",
   "metadata": {},
   "source": [
    "# Observations\n",
    "\n",
    "We can see that the use of the Random Forest algorithm has greatly reduced the <mark>MSE</mark> over the use of just the Decision Tree algorithm."
   ]
  },
  {
   "cell_type": "markdown",
   "id": "0320dc66",
   "metadata": {},
   "source": [
    "# Hyper parameterisation\n",
    "\n",
    "Again we can look at the effect of changing parameterisation. This time we are going to modify the the <mark>max_depth</mark>, <mark>min_samples_leaf</mark>, <mark>min_samples_split</mark>,<mark>max_features</mark> and <mark>n_estimators</mark>. "
   ]
  },
  {
   "cell_type": "code",
   "execution_count": 18,
   "id": "d16f4d6e",
   "metadata": {},
   "outputs": [
    {
     "name": "stdout",
     "output_type": "stream",
     "text": [
      "The MSE value of the trained Random Forest, when using a max_depth of 1 is: 23702.18\n",
      "The MSE value of the trained Random Forest, when using a max_depth of 5 is: 11824.23\n",
      "The MSE value of the trained Random Forest, when using a max_depth of 10 is: 2615.93\n",
      "The MSE value of the trained Random Forest, when using a max_depth of 50 is: 1742.05\n",
      "The MSE value of the trained Random Forest, when using a max_depth of 100 is: 1707.57\n"
     ]
    },
    {
     "data": {
      "text/plain": [
       "Text(0.5, 0, 'min_samples_leaf')"
      ]
     },
     "execution_count": 18,
     "metadata": {},
     "output_type": "execute_result"
    },
    {
     "data": {
      "image/png": "[encoded data removed]",
      "text/plain": [
       "<Figure size 432x288 with 1 Axes>"
      ]
     },
     "metadata": {
      "needs_background": "light"
     },
     "output_type": "display_data"
    }
   ],
   "source": [
    "# Defining a function to test a range of max_depth parameterisations\n",
    "def test_rf_md(parameter_list):\n",
    "    prms = []\n",
    "    mse_list = []\n",
    "    for i in parameter_list:\n",
    "        # Instantiating the decision tree model, we are specifying the max_depth from the instance called (i) from the input\n",
    "        # parameter_list.\n",
    "        rf = RandomForestRegressor(max_depth=i)\n",
    "        \n",
    "        # Fitting the model on the training dataset\n",
    "        rf.fit(training[predictors], training['cnt'])\n",
    "        \n",
    "        # Predicting cnt values using the Decision Tree model we just fitted\n",
    "        cnt_predicted = rf.predict(test[predictors])\n",
    "        \n",
    "        # Calculating the mean square error (MSE)\n",
    "        MSE = mean_squared_error(test['cnt'], cnt_predicted)\n",
    "        \n",
    "        # Printing the MSE\n",
    "        print(\"The MSE value of the trained Random Forest, when using a max_depth of \" + str(i) + \" is: \" + str(round((MSE),2)))\n",
    "        prms.append(i)\n",
    "        mse_list.append(MSE)\n",
    "    return prms, mse_list\n",
    "\n",
    "# Listing the parameters we want to test for max_depth\n",
    "parameter_list = [1,5,10,50,100]\n",
    "\n",
    "# Testing these parameter values with our function.\n",
    "prms, mse_list = test_rf_md(parameter_list)\n",
    "\n",
    "# Plotting the MSE with changing max_depth\n",
    "plt.plot(prms,mse_list)\n",
    "plt.title('MSE with max_depth')\n",
    "plt.ylabel('MSE')\n",
    "plt.xlabel('min_samples_leaf')"
   ]
  },
  {
   "cell_type": "code",
   "execution_count": 19,
   "id": "e4a4f771",
   "metadata": {},
   "outputs": [
    {
     "name": "stdout",
     "output_type": "stream",
     "text": [
      "The MSE value of the trained Random Forest, when using a min_samples_leaf of 1 is: 1727.67\n",
      "The MSE value of the trained Random Forest, when using a min_samples_leaf of 2 is: 1759.74\n",
      "The MSE value of the trained Random Forest, when using a min_samples_leaf of 5 is: 1839.33\n",
      "The MSE value of the trained Random Forest, when using a min_samples_leaf of 10 is: 2102.74\n",
      "The MSE value of the trained Random Forest, when using a min_samples_leaf of 50 is: 3819.87\n"
     ]
    },
    {
     "data": {
      "text/plain": [
       "Text(0.5, 0, 'min_samples_leaf')"
      ]
     },
     "execution_count": 19,
     "metadata": {},
     "output_type": "execute_result"
    },
    {
     "data": {
      "image/png": "[encoded data removed]",
      "text/plain": [
       "<Figure size 432x288 with 1 Axes>"
      ]
     },
     "metadata": {
      "needs_background": "light"
     },
     "output_type": "display_data"
    }
   ],
   "source": [
    "# Defining a function to test a range of min_samples_leaf parameterisations\n",
    "def test_rf_msl(parameter_list):\n",
    "    prms = []\n",
    "    mse_list = []\n",
    "    for i in parameter_list:\n",
    "        # Instantiating the decision tree model, we are specifying the min_samples_leaf from the instance called (i) from the\n",
    "        # input parameter_list.\n",
    "        rf = RandomForestRegressor(min_samples_leaf=i)\n",
    "        \n",
    "        # Fitting the model on the training dataset\n",
    "        rf.fit(training[predictors], training['cnt'])\n",
    "        \n",
    "        # Predicting cnt values using the Decision Tree model we just fitted\n",
    "        cnt_predicted = rf.predict(test[predictors])\n",
    "        \n",
    "        # Calculating the mean square error (MSE)\n",
    "        MSE = mean_squared_error(test['cnt'], cnt_predicted)\n",
    "        \n",
    "        # Printing the MSE\n",
    "        print(\"The MSE value of the trained Random Forest, when using a min_samples_leaf of \" + str(i) + \" is: \" + str(round((MSE),2)))\n",
    "        prms.append(i)\n",
    "        mse_list.append(MSE)\n",
    "    return prms, mse_list\n",
    "\n",
    "# Listing the parameters we want to test for min_samples_leaf\n",
    "parameter_list = [1,2,5,10,50]\n",
    "\n",
    "# Testing these parameter values with our function.\n",
    "prms, mse_list = test_rf_msl(parameter_list)\n",
    "\n",
    "# Plotting the MSE with changing min_samples_split\n",
    "plt.plot(prms,mse_list)\n",
    "plt.title('MSE with min_samples_leaf')\n",
    "plt.ylabel('MSE')\n",
    "plt.xlabel('min_samples_leaf')"
   ]
  },
  {
   "cell_type": "code",
   "execution_count": 20,
   "id": "bd571652",
   "metadata": {},
   "outputs": [
    {
     "name": "stdout",
     "output_type": "stream",
     "text": [
      "The MSE value of the trained Random Forest, when using a min_samples_split of 2 is: 1737.75\n",
      "The MSE value of the trained Random Forest, when using a min_samples_split of 5 is: 1782.49\n",
      "The MSE value of the trained Random Forest, when using a min_samples_split of 10 is: 1820.49\n",
      "The MSE value of the trained Random Forest, when using a min_samples_split of 50 is: 2421.28\n",
      "The MSE value of the trained Random Forest, when using a min_samples_split of 100 is: 3175.75\n"
     ]
    },
    {
     "data": {
      "text/plain": [
       "Text(0.5, 0, 'min_samples_split')"
      ]
     },
     "execution_count": 20,
     "metadata": {},
     "output_type": "execute_result"
    },
    {
     "data": {
      "image/png": "[encoded data removed]",
      "text/plain": [
       "<Figure size 432x288 with 1 Axes>"
      ]
     },
     "metadata": {
      "needs_background": "light"
     },
     "output_type": "display_data"
    }
   ],
   "source": [
    "# Defining a function to test a range of min_samples_split parameterisations\n",
    "def test_rf_mss(parameter_list):\n",
    "    prms = []\n",
    "    mse_list = []\n",
    "    for i in parameter_list:\n",
    "        # Instantiating the decision tree model, we are specifying the min_samples_split from the instance called (i) from the\n",
    "        # input parameter_list.\n",
    "        rf = RandomForestRegressor(min_samples_split=i)\n",
    "        \n",
    "        # Fitting the model on the training dataset\n",
    "        rf.fit(training[predictors], training['cnt'])\n",
    "        \n",
    "        # Predicting cnt values using the Decision Tree model we just fitted\n",
    "        cnt_predicted = rf.predict(test[predictors])\n",
    "        \n",
    "        # Calculating the mean square error (MSE)\n",
    "        MSE = mean_squared_error(test['cnt'], cnt_predicted)\n",
    "        \n",
    "        # Printing the MSE\n",
    "        print(\"The MSE value of the trained Random Forest, when using a min_samples_split of \" + str(i) + \" is: \" + str(round((MSE),2)))\n",
    "        prms.append(i)\n",
    "        mse_list.append(MSE)\n",
    "    return prms, mse_list\n",
    "\n",
    "# Listing the parameters we want to test for min_samples_split\n",
    "parameter_list = [2,5,10,50,100]\n",
    "\n",
    "# Testing these parameter values with our function.\n",
    "prms, mse_list = test_rf_mss(parameter_list)\n",
    "\n",
    "# Plotting the MSE with changing min_samples_split\n",
    "plt.plot(prms,mse_list)\n",
    "plt.title('MSE with min_samples_split')\n",
    "plt.ylabel('MSE')\n",
    "plt.xlabel('min_samples_split')"
   ]
  },
  {
   "cell_type": "code",
   "execution_count": 21,
   "id": "82cba3c1",
   "metadata": {},
   "outputs": [
    {
     "name": "stdout",
     "output_type": "stream",
     "text": [
      "The MSE value of the trained Random Forest, when using a max_features of 2 is: 4502.68\n",
      "The MSE value of the trained Random Forest, when using a max_features of 4 is: 2559.0\n",
      "The MSE value of the trained Random Forest, when using a max_features of 6 is: 1795.39\n",
      "The MSE value of the trained Random Forest, when using a max_features of 8 is: 1629.36\n",
      "The MSE value of the trained Random Forest, when using a max_features of 10 is: 1645.17\n"
     ]
    },
    {
     "data": {
      "text/plain": [
       "Text(0.5, 0, 'max_features')"
      ]
     },
     "execution_count": 21,
     "metadata": {},
     "output_type": "execute_result"
    },
    {
     "data": {
      "image/png": "[encoded data removed]",
      "text/plain": [
       "<Figure size 432x288 with 1 Axes>"
      ]
     },
     "metadata": {
      "needs_background": "light"
     },
     "output_type": "display_data"
    }
   ],
   "source": [
    "# Defining a function to test a range of max_features parameterisations\n",
    "def test_rf_mf(parameter_list):\n",
    "    prms = []\n",
    "    mse_list = []\n",
    "    for i in parameter_list:\n",
    "        # Instantiating the decision tree model, we are specifying the max_features from the instance called (i) from the input\n",
    "        # parameter_list.\n",
    "        rf = RandomForestRegressor(max_features=i)\n",
    "        \n",
    "        # Fitting the model on the training dataset\n",
    "        rf.fit(training[predictors], training['cnt'])\n",
    "        \n",
    "        # Predicting cnt values using the Decision Tree model we just fitted\n",
    "        cnt_predicted = rf.predict(test[predictors])\n",
    "        \n",
    "        # Calculating the mean square error (MSE)\n",
    "        MSE = mean_squared_error(test['cnt'], cnt_predicted)\n",
    "        \n",
    "        # Printing the MSE\n",
    "        print(\"The MSE value of the trained Random Forest, when using a max_features of \" + str(i) + \" is: \" + str(round((MSE),2)))\n",
    "        prms.append(i)\n",
    "        mse_list.append(MSE)\n",
    "    return prms, mse_list\n",
    "\n",
    "# Listing the parameters we want to test for max_features\n",
    "parameter_list = [2,4,6,8,10]\n",
    "\n",
    "# Testing these parameter values with our function.\n",
    "prms, mse_list = test_rf_mf(parameter_list)\n",
    "\n",
    "# Plotting the MSE with changing n_estimators\n",
    "plt.plot(prms,mse_list)\n",
    "plt.title('MSE with max_features')\n",
    "plt.ylabel('MSE')\n",
    "plt.xlabel('max_features')"
   ]
  },
  {
   "cell_type": "code",
   "execution_count": 22,
   "id": "8e3c7353",
   "metadata": {},
   "outputs": [
    {
     "name": "stdout",
     "output_type": "stream",
     "text": [
      "The MSE value of the trained Random Forest, when using a n_estimators of 1 is: 4225.92\n",
      "The MSE value of the trained Random Forest, when using a n_estimators of 5 is: 2191.57\n",
      "The MSE value of the trained Random Forest, when using a n_estimators of 10 is: 1964.02\n",
      "The MSE value of the trained Random Forest, when using a n_estimators of 50 is: 1727.38\n",
      "The MSE value of the trained Random Forest, when using a n_estimators of 100 is: 1732.79\n"
     ]
    },
    {
     "data": {
      "text/plain": [
       "Text(0.5, 0, 'n_estimators')"
      ]
     },
     "execution_count": 22,
     "metadata": {},
     "output_type": "execute_result"
    },
    {
     "data": {
      "image/png": "[encoded data removed]",
      "text/plain": [
       "<Figure size 432x288 with 1 Axes>"
      ]
     },
     "metadata": {
      "needs_background": "light"
     },
     "output_type": "display_data"
    }
   ],
   "source": [
    "# Defining a function to test a range of n_estimators parameterisations\n",
    "def test_rf_ne(parameter_list):\n",
    "    prms = []\n",
    "    mse_list = []\n",
    "    for i in parameter_list:\n",
    "        # Instantiating the decision tree model, we are specifying the n_estimators from the instance called (i) from the input\n",
    "        # parameter_list.\n",
    "        rf = RandomForestRegressor(n_estimators=i)\n",
    "        \n",
    "        # Fitting the model on the training dataset\n",
    "        rf.fit(training[predictors], training['cnt'])\n",
    "        \n",
    "        # Predicting cnt values using the Decision Tree model we just fitted\n",
    "        cnt_predicted = rf.predict(test[predictors])\n",
    "        \n",
    "        # Calculating the mean square error (MSE)\n",
    "        MSE = mean_squared_error(test['cnt'], cnt_predicted)\n",
    "        \n",
    "        # Printing the MSE\n",
    "        print(\"The MSE value of the trained Random Forest, when using a n_estimators of \" + str(i) + \" is: \" + str(round((MSE),2)))\n",
    "        prms.append(i)\n",
    "        mse_list.append(MSE)\n",
    "    return prms, mse_list\n",
    "\n",
    "# Listing the parameters we want to test for n_estimators\n",
    "parameter_list = [1,5,10,50,100]\n",
    "\n",
    "# Testing these parameter values with our function.\n",
    "prms, mse_list = test_rf_ne(parameter_list)\n",
    "\n",
    "# Plotting the MSE with changing n_estimators\n",
    "plt.plot(prms,mse_list)\n",
    "plt.title('MSE with n_estimators')\n",
    "plt.ylabel('MSE')\n",
    "plt.xlabel('n_estimators')"
   ]
  },
  {
   "cell_type": "markdown",
   "id": "7aada549",
   "metadata": {},
   "source": [
    "# Observations\n",
    "\n",
    "We observe the similar <mark>MSE</mark> values for the hyper parameterisation of <mark>max_depth</mark>, <mark>min_samples_leaf</mark>, and <mark>min_samples_split</mark>, which is to be expected. \n",
    "\n",
    "The new parameters tested pertain to the number of features used to train the model on (<mark>max_features</mark>) and the number of decision tree ensembles tested (<mark>n_estimators</mark>). We see that in both instances, the more features used and the number of ensembles tested, the lower the final <mark>MSE</mark> value.\n",
    "\n",
    "Again, we can see that the parameterised <mark>MSE</mark> is still higher or similar to that found with no parameterisation. It could be that in combination, the parameterisation are interferring with one another, or that we are preventing over-fitting to the training dataset."
   ]
  }
 ],
 "metadata": {
  "kernelspec": {
   "display_name": "Python 3 (ipykernel)",
   "language": "python",
   "name": "python3"
  },
  "language_info": {
   "codemirror_mode": {
    "name": "ipython",
    "version": 3
   },
   "file_extension": ".py",
   "mimetype": "text/x-python",
   "name": "python",
   "nbconvert_exporter": "python",
   "pygments_lexer": "ipython3",
   "version": "3.9.12"
  }
 },
 "nbformat": 4,
 "nbformat_minor": 5
}
