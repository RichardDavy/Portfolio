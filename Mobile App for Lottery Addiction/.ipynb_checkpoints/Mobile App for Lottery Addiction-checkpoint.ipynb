{
 "cells": [
  {
   "attachments": {},
   "cell_type": "markdown",
   "id": "7ef33123",
   "metadata": {},
   "source": [
    "# <center>Mobile App for Lottery Addiction</center>\n",
    "\n",
    "<div>\n",
    "<img src=\"Data/4-benefits-of-playing-the-lottery.jpg\" width=\"400\"/>\n",
    "</div>\n",
    "\n",
    "Many people start playing the lottery for fun, but for some this activity turns into a habit which eventually escalates into addiction. Like other compulsive gamblers, lottery addicts soon begin spending from their savings and loans, they start to accumulate debts, and eventually engage in desperate behaviors like theft.\n",
    "\n",
    "A medical institute that aims to prevent and treat gambling addictions wants to build a dedicated mobile app to help lottery addicts better estimate their chances of winning. The institute has a team of engineers that will build the app, but they need us to create the logical core of the app and calculate probabilities.\n",
    "\n",
    "For the first version of the app, they want us to focus on the 6/49 lottery and build functions that enable users to answer questions like:\n",
    "\n",
    "- What is the probability of winning the big prize with a single ticket?\n",
    "- What is the probability of winning the big prize if we play 40 different tickets (or any other number)?\n",
    "- What is the probability of having at least five (or four, or three, or two) winning numbers on a single ticket?\n",
    "\n",
    "The institute also wants us to consider historical data coming from the national 6/49 lottery game in Canada. The data set has data for 3,665 drawings, dating from 1982 to 2018.\n",
    "\n",
    "The scenario we're following throughout this project is fictional — the main purpose is to practice applying concepts that simulates a real-world scenario."
   ]
  },
  {
   "cell_type": "markdown",
   "id": "2ade86b1",
   "metadata": {},
   "source": [
    "# Importing Libraries"
   ]
  },
  {
   "cell_type": "code",
   "execution_count": 1,
   "id": "2bfa6508",
   "metadata": {},
   "outputs": [],
   "source": [
    "import numpy as np\n",
    "import pandas as pd\n",
    "import matplotlib.pyplot as plt\n",
    "import seaborn as sns"
   ]
  },
  {
   "cell_type": "markdown",
   "id": "2091af52",
   "metadata": {},
   "source": [
    "## Defining Recurring Functions\n",
    "\n",
    "Throughout the project, we'll need to calculate repeatedly probabilities and combinations. As a consequence, we'll start by writing two functions that we'll use often:\n",
    "\n",
    "- A function that calculates factorials; and\n",
    "- A function that calculates combinations.\n",
    "\n",
    "__Factorials__\n",
    "\n",
    "The factorial of a number, n, is given by the formula:\n",
    "\n",
    "<center> $\\large n! = n * (n-1) * (n-2) * ... * 2 * 1$ </center>\n",
    "\n",
    "__Combinations__\n",
    "\n",
    "To find the number of combinations when we're sampling without replacement and taking only k objects from a group of n objects, we can use the formula:\n",
    "\n",
    "<center>$\\large _{n}C_{k} = \\frac{n!}{k!(n-k)!}$<center>\n"
   ]
  },
  {
   "cell_type": "code",
   "execution_count": 2,
   "id": "ad2394a8",
   "metadata": {},
   "outputs": [],
   "source": [
    "# Defining a function for the calculation of factorials\n",
    "\n",
    "# Writing our function, where n is the number we want to find the factorial of.\n",
    "def factorial(n):\n",
    "    # We need to set the factorial total - which we are going to iteratively multiply\n",
    "    factorial_total = 1\n",
    "    # Cyclying through a for loop that multiplies factorial_total by all the number up to n\n",
    "    for i in range(1,(n+1)):\n",
    "        factorial_total *= i\n",
    "    # Returning the factorial_total to the user\n",
    "    return factorial_total"
   ]
  },
  {
   "cell_type": "code",
   "execution_count": 3,
   "id": "6034ca30",
   "metadata": {},
   "outputs": [],
   "source": [
    "# Defining a function for the calculation of combinations\n",
    "\n",
    "def combinations(n,k):\n",
    "    numerator = factorial(n)\n",
    "    denomenator = factorial(k)*factorial(n-k)\n",
    "    return numerator / denomenator"
   ]
  },
  {
   "cell_type": "markdown",
   "id": "b72e57e4",
   "metadata": {},
   "source": [
    "## Function Testing\n",
    "\n",
    "To test the factorial function, we are going to calculate the factorial of 3 (3!)\n",
    "\n",
    "<center>$\\large 3! = 3 * 2 * 1 = 6$</center>"
   ]
  },
  {
   "cell_type": "code",
   "execution_count": 4,
   "id": "f8bedec5",
   "metadata": {
    "scrolled": true
   },
   "outputs": [
    {
     "name": "stdout",
     "output_type": "stream",
     "text": [
      "The factorial of 3 (3!) is 6\n"
     ]
    }
   ],
   "source": [
    "# Testing our funtion to see that it operates as expected.\n",
    "\n",
    "print(\"The factorial of 3 (3!) is \" + str(factorial(3)))"
   ]
  },
  {
   "cell_type": "markdown",
   "id": "87d2ff8b",
   "metadata": {},
   "source": [
    "To test the combination function, we are going to use an example that we have seen before:\n",
    "\n",
    "_A small company is interested in running an A/B test and is about to select a group of 18 customers out of a total of 34 customers. Find the number of unique ways in which 18 customers can be selected from a group of 34._\n",
    "\n",
    "We know that the answer is __2,203,961,430__."
   ]
  },
  {
   "cell_type": "code",
   "execution_count": 5,
   "id": "5ef5f80f",
   "metadata": {},
   "outputs": [
    {
     "name": "stdout",
     "output_type": "stream",
     "text": [
      "Our combinations function gives a result of 2,203,961,430\n"
     ]
    }
   ],
   "source": [
    "# Testing our combinations function\n",
    "\n",
    "print(\"Our combinations function gives a result of \" + \"{:,}\".format((int(combinations(34,18)))))"
   ]
  },
  {
   "cell_type": "markdown",
   "id": "35491789",
   "metadata": {},
   "source": [
    "## Calculating the Odds of Winning it Big with a Single Ticket\n",
    "\n",
    "In the 6/49 lottery, six numbers are drawn from a set of 49 numbers that range from 1 to 49. A player wins the big prize if the six numbers on their tickets match all the six numbers drawn. If a player has a ticket with the numbers {13, 22, 24, 27, 42, 44}, he only wins the big prize if the numbers drawn are {13, 22, 24, 27, 42, 44}. If only one number differs, he doesn't win.\n",
    "\n",
    "For the first version of the app, we want players to be able to calculate the probability of winning the big prize with the various numbers they play on a single ticket (for each ticket a player chooses six numbers out of 49). So, we'll start by building a function that calculates the probability of winning the big prize for any given ticket.\n",
    "\n",
    "We discussed with the engineering team of the medical institute, and they told us we need to be aware of the following details when we write the function:\n",
    "\n",
    "- Inside the app, the user inputs six different numbers from 1 to 49.\n",
    "- Under the hood, the six numbers will come as a Python list, which will serve as the single input to our function.\n",
    "- The engineering team wants the function to print the probability value in a friendly way — in a way that people without any probability training are able to understand.\n",
    "\n",
    "Let's attempt to write this function!"
   ]
  },
  {
   "cell_type": "code",
   "execution_count": 6,
   "id": "a41197c6",
   "metadata": {},
   "outputs": [],
   "source": [
    "# Defining a funtion to calculate the probability of winning the lottery.\n",
    "\n",
    "def one_ticket_probability(list):\n",
    "    # We are checking that the user has given us six numbers, all of which are between 1 and 49.\n",
    "    if len(list) == 6 and max(list) <= 49 and min(list) >= 1:\n",
    "        # Calculating all the different combinations of numbers when six are drawn from 49, without replacement.\n",
    "        combos = combinations(49,6)\n",
    "        # Calculating the probability of a single ticket being the correct combination\n",
    "        prob_perc = 1/combos * 100\n",
    "        prob = 1/combos\n",
    "        # Printing the results.\n",
    "        print(\"The the chance of winning with the numbers: \" + str(list) + \" is \" \\\n",
    "               + str(\"{:.8f}\".format(float((prob_perc)))) + \"%,\" + \" or 1 in \" + \"{:,}\".format(int(1/prob))+ \".\")\n",
    "        \n",
    "    # If the user provides too many/few numbers, we print a message telling them the requirements for correct input.\n",
    "    else:\n",
    "        print(\"Lottery requires six unique number between 1 and 49.\")"
   ]
  },
  {
   "cell_type": "markdown",
   "id": "c75c3ce3",
   "metadata": {},
   "source": [
    "You may notice that the function doesn't actually use the list of numbers to determine the probability of the lottery. However, we do check that the user is giving us the correct amount of numbers, and that they are between 1-49. We want to give the user the illusion that we are truly using their numbers for the calculation, and so the function must require the correct inputs.\n",
    "\n",
    "All single combinations have the same chance of winning - we are simply using the entered numbers to tell the user that their chosen numbers have the chance of one combination being picked. This makes it relatable to the person who is looking to play the lottery.\n",
    "\n",
    "We test this function with a couple of different combinations. We also test invalid inputs, to see if our error message works correctly."
   ]
  },
  {
   "cell_type": "code",
   "execution_count": 7,
   "id": "1357023b",
   "metadata": {},
   "outputs": [
    {
     "name": "stdout",
     "output_type": "stream",
     "text": [
      "The the chance of winning with the numbers: [1, 31, 11, 23, 33, 49] is 0.00000715%, or 1 in 13,983,816.\n"
     ]
    }
   ],
   "source": [
    "# Entering a valid combination of lottery numbers.\n",
    "\n",
    "ticket_numbers = [1,31,11,23,33,49]\n",
    "one_ticket_probability(ticket_numbers)"
   ]
  },
  {
   "cell_type": "code",
   "execution_count": 8,
   "id": "204efabf",
   "metadata": {},
   "outputs": [
    {
     "name": "stdout",
     "output_type": "stream",
     "text": [
      "Lottery requires six unique number between 1 and 49.\n"
     ]
    }
   ],
   "source": [
    "# Entering an invalid combination of lottery numbers (numbers exceeding 49).\n",
    "\n",
    "ticket_numbers = [1,71,11,23,33,89]\n",
    "one_ticket_probability(ticket_numbers)"
   ]
  },
  {
   "cell_type": "code",
   "execution_count": 9,
   "id": "3f140738",
   "metadata": {},
   "outputs": [
    {
     "name": "stdout",
     "output_type": "stream",
     "text": [
      "Lottery requires six unique number between 1 and 49.\n"
     ]
    }
   ],
   "source": [
    "# Entering an invalid combination of lottery numbers (using more than six numbers).\n",
    "\n",
    "ticket_numbers = [1,41,11,23,33,29,12]\n",
    "one_ticket_probability(ticket_numbers)"
   ]
  },
  {
   "cell_type": "markdown",
   "id": "905fbdaf",
   "metadata": {},
   "source": [
    "## Comparing with Historic Lottery Draws\n",
    "\n",
    "We have written a function that can tell users what is the probability of winning the big prize with a single ticket. For the first version of the app, however, users should also be able to compare their ticket against the historical lottery data in Canada and determine whether they would have ever won by now.\n",
    "\n",
    "We are going to focus on exploring the historical data coming from the Canada 6/49 lottery. The data set can be downloaded from [Kaggle](https://www.kaggle.com/datascienceai/lottery-dataset).\n",
    "\n",
    "The data set contains historical data for 3,665 drawings (each row shows data for a single drawing), dating from 1982 to 2018:"
   ]
  },
  {
   "cell_type": "code",
   "execution_count": 10,
   "id": "95d14f5d",
   "metadata": {},
   "outputs": [
    {
     "name": "stdout",
     "output_type": "stream",
     "text": [
      "First five entries in the lottery dataset:\n"
     ]
    },
    {
     "data": {
      "text/html": [
       "<div>\n",
       "<style scoped>\n",
       "    .dataframe tbody tr th:only-of-type {\n",
       "        vertical-align: middle;\n",
       "    }\n",
       "\n",
       "    .dataframe tbody tr th {\n",
       "        vertical-align: top;\n",
       "    }\n",
       "\n",
       "    .dataframe thead th {\n",
       "        text-align: right;\n",
       "    }\n",
       "</style>\n",
       "<table border=\"1\" class=\"dataframe\">\n",
       "  <thead>\n",
       "    <tr style=\"text-align: right;\">\n",
       "      <th></th>\n",
       "      <th>PRODUCT</th>\n",
       "      <th>DRAW NUMBER</th>\n",
       "      <th>SEQUENCE NUMBER</th>\n",
       "      <th>DRAW DATE</th>\n",
       "      <th>NUMBER DRAWN 1</th>\n",
       "      <th>NUMBER DRAWN 2</th>\n",
       "      <th>NUMBER DRAWN 3</th>\n",
       "      <th>NUMBER DRAWN 4</th>\n",
       "      <th>NUMBER DRAWN 5</th>\n",
       "      <th>NUMBER DRAWN 6</th>\n",
       "      <th>BONUS NUMBER</th>\n",
       "    </tr>\n",
       "  </thead>\n",
       "  <tbody>\n",
       "    <tr>\n",
       "      <th>0</th>\n",
       "      <td>649</td>\n",
       "      <td>1</td>\n",
       "      <td>0</td>\n",
       "      <td>6/12/1982</td>\n",
       "      <td>3</td>\n",
       "      <td>11</td>\n",
       "      <td>12</td>\n",
       "      <td>14</td>\n",
       "      <td>41</td>\n",
       "      <td>43</td>\n",
       "      <td>13</td>\n",
       "    </tr>\n",
       "    <tr>\n",
       "      <th>1</th>\n",
       "      <td>649</td>\n",
       "      <td>2</td>\n",
       "      <td>0</td>\n",
       "      <td>6/19/1982</td>\n",
       "      <td>8</td>\n",
       "      <td>33</td>\n",
       "      <td>36</td>\n",
       "      <td>37</td>\n",
       "      <td>39</td>\n",
       "      <td>41</td>\n",
       "      <td>9</td>\n",
       "    </tr>\n",
       "    <tr>\n",
       "      <th>2</th>\n",
       "      <td>649</td>\n",
       "      <td>3</td>\n",
       "      <td>0</td>\n",
       "      <td>6/26/1982</td>\n",
       "      <td>1</td>\n",
       "      <td>6</td>\n",
       "      <td>23</td>\n",
       "      <td>24</td>\n",
       "      <td>27</td>\n",
       "      <td>39</td>\n",
       "      <td>34</td>\n",
       "    </tr>\n",
       "    <tr>\n",
       "      <th>3</th>\n",
       "      <td>649</td>\n",
       "      <td>4</td>\n",
       "      <td>0</td>\n",
       "      <td>7/3/1982</td>\n",
       "      <td>3</td>\n",
       "      <td>9</td>\n",
       "      <td>10</td>\n",
       "      <td>13</td>\n",
       "      <td>20</td>\n",
       "      <td>43</td>\n",
       "      <td>34</td>\n",
       "    </tr>\n",
       "    <tr>\n",
       "      <th>4</th>\n",
       "      <td>649</td>\n",
       "      <td>5</td>\n",
       "      <td>0</td>\n",
       "      <td>7/10/1982</td>\n",
       "      <td>5</td>\n",
       "      <td>14</td>\n",
       "      <td>21</td>\n",
       "      <td>31</td>\n",
       "      <td>34</td>\n",
       "      <td>47</td>\n",
       "      <td>45</td>\n",
       "    </tr>\n",
       "  </tbody>\n",
       "</table>\n",
       "</div>"
      ],
      "text/plain": [
       "   PRODUCT  DRAW NUMBER  SEQUENCE NUMBER  DRAW DATE  NUMBER DRAWN 1  \\\n",
       "0      649            1                0  6/12/1982               3   \n",
       "1      649            2                0  6/19/1982               8   \n",
       "2      649            3                0  6/26/1982               1   \n",
       "3      649            4                0   7/3/1982               3   \n",
       "4      649            5                0  7/10/1982               5   \n",
       "\n",
       "   NUMBER DRAWN 2  NUMBER DRAWN 3  NUMBER DRAWN 4  NUMBER DRAWN 5  \\\n",
       "0              11              12              14              41   \n",
       "1              33              36              37              39   \n",
       "2               6              23              24              27   \n",
       "3               9              10              13              20   \n",
       "4              14              21              31              34   \n",
       "\n",
       "   NUMBER DRAWN 6  BONUS NUMBER  \n",
       "0              43            13  \n",
       "1              41             9  \n",
       "2              39            34  \n",
       "3              43            34  \n",
       "4              47            45  "
      ]
     },
     "metadata": {},
     "output_type": "display_data"
    },
    {
     "name": "stdout",
     "output_type": "stream",
     "text": [
      "Last five entries in the lottery dataset:\n"
     ]
    },
    {
     "data": {
      "text/html": [
       "<div>\n",
       "<style scoped>\n",
       "    .dataframe tbody tr th:only-of-type {\n",
       "        vertical-align: middle;\n",
       "    }\n",
       "\n",
       "    .dataframe tbody tr th {\n",
       "        vertical-align: top;\n",
       "    }\n",
       "\n",
       "    .dataframe thead th {\n",
       "        text-align: right;\n",
       "    }\n",
       "</style>\n",
       "<table border=\"1\" class=\"dataframe\">\n",
       "  <thead>\n",
       "    <tr style=\"text-align: right;\">\n",
       "      <th></th>\n",
       "      <th>PRODUCT</th>\n",
       "      <th>DRAW NUMBER</th>\n",
       "      <th>SEQUENCE NUMBER</th>\n",
       "      <th>DRAW DATE</th>\n",
       "      <th>NUMBER DRAWN 1</th>\n",
       "      <th>NUMBER DRAWN 2</th>\n",
       "      <th>NUMBER DRAWN 3</th>\n",
       "      <th>NUMBER DRAWN 4</th>\n",
       "      <th>NUMBER DRAWN 5</th>\n",
       "      <th>NUMBER DRAWN 6</th>\n",
       "      <th>BONUS NUMBER</th>\n",
       "    </tr>\n",
       "  </thead>\n",
       "  <tbody>\n",
       "    <tr>\n",
       "      <th>3660</th>\n",
       "      <td>649</td>\n",
       "      <td>3587</td>\n",
       "      <td>0</td>\n",
       "      <td>6/6/2018</td>\n",
       "      <td>10</td>\n",
       "      <td>15</td>\n",
       "      <td>23</td>\n",
       "      <td>38</td>\n",
       "      <td>40</td>\n",
       "      <td>41</td>\n",
       "      <td>35</td>\n",
       "    </tr>\n",
       "    <tr>\n",
       "      <th>3661</th>\n",
       "      <td>649</td>\n",
       "      <td>3588</td>\n",
       "      <td>0</td>\n",
       "      <td>6/9/2018</td>\n",
       "      <td>19</td>\n",
       "      <td>25</td>\n",
       "      <td>31</td>\n",
       "      <td>36</td>\n",
       "      <td>46</td>\n",
       "      <td>47</td>\n",
       "      <td>26</td>\n",
       "    </tr>\n",
       "    <tr>\n",
       "      <th>3662</th>\n",
       "      <td>649</td>\n",
       "      <td>3589</td>\n",
       "      <td>0</td>\n",
       "      <td>6/13/2018</td>\n",
       "      <td>6</td>\n",
       "      <td>22</td>\n",
       "      <td>24</td>\n",
       "      <td>31</td>\n",
       "      <td>32</td>\n",
       "      <td>34</td>\n",
       "      <td>16</td>\n",
       "    </tr>\n",
       "    <tr>\n",
       "      <th>3663</th>\n",
       "      <td>649</td>\n",
       "      <td>3590</td>\n",
       "      <td>0</td>\n",
       "      <td>6/16/2018</td>\n",
       "      <td>2</td>\n",
       "      <td>15</td>\n",
       "      <td>21</td>\n",
       "      <td>31</td>\n",
       "      <td>38</td>\n",
       "      <td>49</td>\n",
       "      <td>8</td>\n",
       "    </tr>\n",
       "    <tr>\n",
       "      <th>3664</th>\n",
       "      <td>649</td>\n",
       "      <td>3591</td>\n",
       "      <td>0</td>\n",
       "      <td>6/20/2018</td>\n",
       "      <td>14</td>\n",
       "      <td>24</td>\n",
       "      <td>31</td>\n",
       "      <td>35</td>\n",
       "      <td>37</td>\n",
       "      <td>48</td>\n",
       "      <td>17</td>\n",
       "    </tr>\n",
       "  </tbody>\n",
       "</table>\n",
       "</div>"
      ],
      "text/plain": [
       "      PRODUCT  DRAW NUMBER  SEQUENCE NUMBER  DRAW DATE  NUMBER DRAWN 1  \\\n",
       "3660      649         3587                0   6/6/2018              10   \n",
       "3661      649         3588                0   6/9/2018              19   \n",
       "3662      649         3589                0  6/13/2018               6   \n",
       "3663      649         3590                0  6/16/2018               2   \n",
       "3664      649         3591                0  6/20/2018              14   \n",
       "\n",
       "      NUMBER DRAWN 2  NUMBER DRAWN 3  NUMBER DRAWN 4  NUMBER DRAWN 5  \\\n",
       "3660              15              23              38              40   \n",
       "3661              25              31              36              46   \n",
       "3662              22              24              31              32   \n",
       "3663              15              21              31              38   \n",
       "3664              24              31              35              37   \n",
       "\n",
       "      NUMBER DRAWN 6  BONUS NUMBER  \n",
       "3660              41            35  \n",
       "3661              47            26  \n",
       "3662              34            16  \n",
       "3663              49             8  \n",
       "3664              48            17  "
      ]
     },
     "metadata": {},
     "output_type": "display_data"
    }
   ],
   "source": [
    "# Reading in the lottery data.\n",
    "canadian_lottery = pd.read_csv('./Data/649.csv')\n",
    "\n",
    "# Showing the first five rows of the dataset.\n",
    "print(\"First five entries in the lottery dataset:\")\n",
    "display(canadian_lottery.head(5))\n",
    "\n",
    "# Showing the last five rows of the dataset.\n",
    "print(\"Last five entries in the lottery dataset:\")\n",
    "display(canadian_lottery.tail(5))"
   ]
  },
  {
   "cell_type": "markdown",
   "id": "11821f18",
   "metadata": {},
   "source": [
    "For each drawing, we can find the six numbers drawn in the following six columns:\n",
    "\n",
    "- <mark>NUMBER DRAWN 1</mark>\n",
    "- <mark>NUMBER DRAWN 2</mark>\n",
    "- <mark>NUMBER DRAWN 3</mark>\n",
    "- <mark>NUMBER DRAWN 4</mark>\n",
    "- <mark>NUMBER DRAWN 5</mark>\n",
    "- <mark>NUMBER DRAWN 6</mark>\n",
    "\n",
    "We're going to write a function that will enable users to compare their ticket against the historical lottery data in Canada and determine whether they would have ever won by now.\n",
    "\n",
    "The engineering team told us that we need to be aware of the following details:\n",
    "\n",
    "- Inside the app, the user inputs six different numbers from 1 to 49.\n",
    "- Under the hood, the six numbers will come as a Python list and serve as an input to our function.\n",
    "- The engineering team wants us to write a function that prints:\n",
    "    - the number of times the combination selected occurred in the Canada data set; and\n",
    "    - the probability of winning the big prize in the next drawing with that combination.\n",
    "    \n",
    "We'll now start working on writing this function."
   ]
  },
  {
   "cell_type": "code",
   "execution_count": 26,
   "id": "5538d626",
   "metadata": {},
   "outputs": [],
   "source": [
    "# Writing a function to extract the winning lottery numbers from each entry and store these as sets.\n",
    "\n",
    "def extract_numbers(dataset):\n",
    "    # Estracing the correct columns from the dataset.\n",
    "    row = dataset[4:10]\n",
    "    # Taking the value of the rows and converting the lists to sets.\n",
    "    row = set(row.values)\n",
    "    # Returning the sets to the user\n",
    "    return row"
   ]
  },
  {
   "cell_type": "code",
   "execution_count": 28,
   "id": "825fe2b6",
   "metadata": {},
   "outputs": [
    {
     "name": "stdout",
     "output_type": "stream",
     "text": [
      "0        {3, 41, 11, 12, 43, 14}\n",
      "1        {33, 36, 37, 39, 8, 41}\n",
      "2         {1, 6, 39, 23, 24, 27}\n",
      "3         {3, 9, 10, 43, 13, 20}\n",
      "4        {34, 5, 14, 47, 21, 31}\n",
      "                  ...           \n",
      "3660    {38, 40, 41, 10, 15, 23}\n",
      "3661    {36, 46, 47, 19, 25, 31}\n",
      "3662     {32, 34, 6, 22, 24, 31}\n",
      "3663     {2, 38, 15, 49, 21, 31}\n",
      "3664    {35, 37, 14, 48, 24, 31}\n",
      "Length: 3665, dtype: object\n"
     ]
    }
   ],
   "source": [
    "# Assigning all the sets of winning lottery numbers to a new database.\n",
    "\n",
    "print(canadian_lottery.apply(extract_numbers, axis=1))\n",
    "winning_numbers = canadian_lottery.apply(extract_numbers, axis=1)"
   ]
  },
  {
   "cell_type": "markdown",
   "id": "053bea57",
   "metadata": {},
   "source": [
    "Now that we have extracted all the winning lottery number combinations, we want to write a function that will check any given combination with the historical data."
   ]
  },
  {
   "cell_type": "code",
   "execution_count": 68,
   "id": "0e97e108",
   "metadata": {},
   "outputs": [],
   "source": [
    "# The function we are defining takes in a list of numbers (the users desired lottery numbers)\n",
    "# and the series of past winning numbers:\n",
    "\n",
    "def check_historical_occurence(selected_numbers, past_winning_numbers):\n",
    "    \n",
    "    # Converting the users desired lottery numbers into a set, for cross-checking.\n",
    "    selected_numbers_set = set(selected_numbers)\n",
    "    \n",
    "    # Checking the users lottery numbers against all sets of previous winning combinations.\n",
    "    check_historical_occurences = selected_numbers_set == past_winning_numbers\n",
    "    \n",
    "    # Summing the number of times this set of numbers has won in the past\n",
    "    number_of_times_combo_won = check_historical_occurences.sum()\n",
    "    \n",
    "    # Conditional statements to return messages related to the number of times the selected numbers have won\n",
    "    # and their chances of winning again.\n",
    "    if number_of_times_combo_won == 0:\n",
    "        print(\"This combination of numbers has never won the Canadian Lottery. \\\n",
    "        \\nThis doesn't change the probablity that this ticket will win the lottery. \\\n",
    "        \\nThe chances of these numbers winning are 0.00000715%, or 1 in 13,983,816.\")\n",
    "    else:\n",
    "        print(\"This combination of numbers has won the Canadian Lottery \" \\\n",
    "        + str(number_of_times_combo_won) + \" times in the past. \\\n",
    "        \\nThis doesn't change the probablity that this ticket will win the lottery. \\\n",
    "        \\nThe chances of these numbers winning are 0.00000715%, or 1 in 13,983,816.\")    "
   ]
  },
  {
   "cell_type": "markdown",
   "id": "99a1a6cc",
   "metadata": {},
   "source": [
    "Now we want to test whether the code works correctly by giving it combinations of lottery numbers that have won, and not won, in past."
   ]
  },
  {
   "cell_type": "code",
   "execution_count": 69,
   "id": "83af7f37",
   "metadata": {},
   "outputs": [
    {
     "name": "stdout",
     "output_type": "stream",
     "text": [
      "This combination of numbers has won the Canadian Lottery 1 times in the past.         \n",
      "This doesn't change the probablity that this ticket will win the lottery.         \n",
      "The chances of these numbers winning are 0.00000715%, or 1 in 13,983,816.\n"
     ]
    }
   ],
   "source": [
    "# Testing the code on a lottery ticket that has previously won:\n",
    "\n",
    "user_numbers = [3, 41, 11, 12, 43, 14]\n",
    "check_historical_occurence(user_numbers,winning_numbers)"
   ]
  },
  {
   "cell_type": "code",
   "execution_count": 70,
   "id": "5cb083cb",
   "metadata": {},
   "outputs": [
    {
     "name": "stdout",
     "output_type": "stream",
     "text": [
      "This combination of numbers has never won the Canadian Lottery.         \n",
      "This doesn't change the probablity that this ticket will win the lottery.         \n",
      "The chances of these numbers winning are 0.00000715%, or 1 in 13,983,816.\n"
     ]
    }
   ],
   "source": [
    "# Testing the code on a lottery ticket that has not previously won:\n",
    "\n",
    "user_numbers = [8, 31, 22, 19, 47, 4]\n",
    "check_historical_occurence(user_numbers,winning_numbers)"
   ]
  },
  {
   "cell_type": "markdown",
   "id": "2f599ff3",
   "metadata": {},
   "source": [
    "## Calculating the Odds of Winning it Big with a Multiple Tickets\n",
    "\n",
    "Lottery addicts usually play more than one ticket on a single drawing, thinking that this might increase their chances of winning significantly. Our purpose is to help them better estimate their chances of winning — on this screen, we're going to write a function that will allow the users to calculate the chances of winning for any number of different tickets.\n",
    "\n",
    "We've talked with the engineering team and they gave us the following information:\n",
    "\n",
    "- The user will input the number of different tickets they want to play (without inputting the specific combinations they intend to play).\n",
    "- Our function will see an integer between 1 and 13,983,816 (the maximum number of different tickets).\n",
    "- The function should print information about the probability of winning the big prize depending on the number of different tickets played.\n",
    "\n",
    "This function is very similar to the single ticket code, we are just increasing the number of outcomes we are testing. The code is mostly modified from <mark>one_ticket_probability</mark>."
   ]
  },
  {
   "cell_type": "code",
   "execution_count": 78,
   "id": "a612605e",
   "metadata": {},
   "outputs": [],
   "source": [
    "# Defining a funtion to calculate the probability of winning the lottery with multiple different tickets.\n",
    "\n",
    "def multiple_ticket_probability(number_tickets):    \n",
    "    \n",
    "    # Calculating all the different combinations of numbers when six are drawn from 49, without replacement.\n",
    "    combos = combinations(49,6)\n",
    "    \n",
    "    # Calculating the probability that one of the users multiple tickets is the winning combination\n",
    "    prob_perc = number_tickets/combos * 100\n",
    "    prob = number_tickets/combos\n",
    "    \n",
    "    # Printing the results.\n",
    "    print(\"The the chance of winning with \" + str(number_tickets) + \" different tickets, is \" \\\n",
    "           + str(\"{:.8f}\".format(float((prob_perc)))) + \"%,\" + \" or 1 in \" + \"{:,}\".format(int(1/prob))+ \".\")"
   ]
  },
  {
   "cell_type": "markdown",
   "id": "38f30f6d",
   "metadata": {},
   "source": [
    "Testing the code with different numbers of lottery tickets:"
   ]
  },
  {
   "cell_type": "code",
   "execution_count": 80,
   "id": "4b2b2ec9",
   "metadata": {},
   "outputs": [
    {
     "name": "stdout",
     "output_type": "stream",
     "text": [
      "The the chance of winning with 100 different tickets, is 0.00071511%, or 1 in 139,838.\n"
     ]
    }
   ],
   "source": [
    "# First we test 100 tickets - as this makes it easier to compare with a single ticket.\n",
    "multiple_ticket_probability(100)"
   ]
  },
  {
   "cell_type": "markdown",
   "id": "1cae9e0c",
   "metadata": {},
   "source": [
    "We can see that we are 100 times more likely to win, which is in agreement with the product rule of probability.\n",
    "\n",
    "Testing other numbers of different lottery tickets:"
   ]
  },
  {
   "cell_type": "code",
   "execution_count": 117,
   "id": "82ac01ae",
   "metadata": {},
   "outputs": [
    {
     "name": "stdout",
     "output_type": "stream",
     "text": [
      "The the chance of winning with 1 different tickets, is 0.00000715%, or 1 in 13,983,816.\n",
      "The the chance of winning with 2 different tickets, is 0.00001430%, or 1 in 6,991,908.\n",
      "The the chance of winning with 5 different tickets, is 0.00003576%, or 1 in 2,796,763.\n",
      "The the chance of winning with 10 different tickets, is 0.00007151%, or 1 in 1,398,381.\n",
      "The the chance of winning with 25 different tickets, is 0.00017878%, or 1 in 559,352.\n",
      "The the chance of winning with 1000 different tickets, is 0.00715112%, or 1 in 13,983.\n",
      "The the chance of winning with 13983815 different tickets, is 99.99999285%, or 1 in 1.\n",
      "The the chance of winning with 13983816 different tickets, is 100.00000000%, or 1 in 1.\n"
     ]
    }
   ],
   "source": [
    "# Testing more numbers of tickets.\n",
    "\n",
    "ticket_num = [1,2,5,10,25,1000,13983815,13983816]\n",
    "\n",
    "for i in ticket_num:\n",
    "    multiple_ticket_probability(i)"
   ]
  },
  {
   "cell_type": "markdown",
   "id": "66c8ff69",
   "metadata": {},
   "source": [
    "## Chances of Between Two and Five Winning Numbers.\n",
    "\n",
    "We're going to write one more function to allow the users to calculate probabilities for two, three, four, or five winning numbers.\n",
    "\n",
    "For extra context, in most 6/49 lotteries there are smaller prizes if a player's ticket match two, three, four, or five of the six numbers drawn. As a consequence, the users might be interested in knowing the probability of having two, three, four, or five winning numbers.\n",
    "\n",
    "These are the engineering details we'll need to be aware of:\n",
    "\n",
    "- Inside the app, the user inputs:\n",
    "    - six different numbers from 1 to 49; and\n",
    "    - an integer between 2 and 5 that represents the number of winning numbers expected\n",
    "- Our function prints information about the probability of having the inputted number of winning numbers."
   ]
  },
  {
   "cell_type": "code",
   "execution_count": 120,
   "id": "ab437bdd",
   "metadata": {},
   "outputs": [],
   "source": [
    "ticket_numbers = [1,41,11,23,33,29]\n",
    "\n",
    "def probability_less_6(list, num_correct):\n",
    "    \n",
    "    # We are checking that the user has given us six numbers, all of which are between 1 and 49.\n",
    "    if len(list) == 6 and max(list) <= 49 and min(list) >= 1:\n",
    "        \n",
    "        # Calculating all the different combinations of numbers when six are drawn from 49, without replacement.\n",
    "        combos = combinations(49,6)\n",
    "        # Calculating the different combinations of our numbers that are correct.\n",
    "        num_combos_ticket = combinations(6,num_correct)\n",
    "        # Calculate the remaining combinations for numbers that aren't correct, once the num_correct are already selected.\n",
    "        num_remaining_combo = combinations(43, 6 - num_correct)\n",
    "        \n",
    "        # Total number of succesful outcomes.    \n",
    "        number_succesful_outcomes = num_combos_ticket * num_remaining_combo\n",
    "                \n",
    "        # Calculating the probability getting a certain number correct (num_correct)\n",
    "        prob_perc = number_succesful_outcomes/combos * 100\n",
    "        prob = number_succesful_outcomes/combos\n",
    "        # Printing the results.\n",
    "        print(\"The the chance of \" + str(num_correct) + \" of the numbers from: \" + str(list) + \" being correct, is \" \\\n",
    "               + str(\"{:.8f}\".format(float((prob_perc)))) + \"%,\" + \" or 1 in \" + \"{:,.1f}\".format((1/prob))+ \".\")\n",
    "        "
   ]
  },
  {
   "cell_type": "markdown",
   "id": "81d3a430",
   "metadata": {},
   "source": [
    "Now that we have written the code, we need to test it to see if it is correct."
   ]
  },
  {
   "cell_type": "code",
   "execution_count": 119,
   "id": "b42825cc",
   "metadata": {},
   "outputs": [
    {
     "name": "stdout",
     "output_type": "stream",
     "text": [
      "The the chance of 1 of the numbers from: [1, 41, 11, 23, 33, 29] being correct, is 41.30194505%, or 1 in 2.4.\n",
      "The the chance of 2 of the numbers from: [1, 41, 11, 23, 33, 29] being correct, is 13.23780290%, or 1 in 7.6.\n",
      "The the chance of 3 of the numbers from: [1, 41, 11, 23, 33, 29] being correct, is 1.76504039%, or 1 in 56.7.\n",
      "The the chance of 4 of the numbers from: [1, 41, 11, 23, 33, 29] being correct, is 0.09686197%, or 1 in 1,032.4.\n",
      "The the chance of 5 of the numbers from: [1, 41, 11, 23, 33, 29] being correct, is 0.00184499%, or 1 in 54,200.8.\n"
     ]
    }
   ],
   "source": [
    "# Setting a list for the different amount of lottery numbers being correct\n",
    "correct_numbers = [1,2,3,4,5]\n",
    "\n",
    "# Setting the lottery numbers (this is really rather arbitary and has no effect of the probabilities)\n",
    "lottery_numbers = [1,41,11,23,33,29]\n",
    "\n",
    "# Cycling through the different number of correct lottery numbers:\n",
    "for i in correct_numbers:\n",
    "    probability_less_6(lottery_numbers,i)"
   ]
  },
  {
   "cell_type": "markdown",
   "id": "b51a78da",
   "metadata": {},
   "source": [
    "## Conclusions\n",
    "\n",
    "We have created the framework for calculating the probability of winning the lottery, given the users selected lottery numbers. This returns tangible odds of the users winning the lottery, hopefully dissuading them from spending money that they cannot afford on lottery tickets."
   ]
  },
  {
   "cell_type": "code",
   "execution_count": null,
   "id": "5f6854b1",
   "metadata": {},
   "outputs": [],
   "source": []
  }
 ],
 "metadata": {
  "kernelspec": {
   "display_name": "Python 3 (ipykernel)",
   "language": "python",
   "name": "python3"
  },
  "language_info": {
   "codemirror_mode": {
    "name": "ipython",
    "version": 3
   },
   "file_extension": ".py",
   "mimetype": "text/x-python",
   "name": "python",
   "nbconvert_exporter": "python",
   "pygments_lexer": "ipython3",
   "version": "3.9.12"
  }
 },
 "nbformat": 4,
 "nbformat_minor": 5
}
