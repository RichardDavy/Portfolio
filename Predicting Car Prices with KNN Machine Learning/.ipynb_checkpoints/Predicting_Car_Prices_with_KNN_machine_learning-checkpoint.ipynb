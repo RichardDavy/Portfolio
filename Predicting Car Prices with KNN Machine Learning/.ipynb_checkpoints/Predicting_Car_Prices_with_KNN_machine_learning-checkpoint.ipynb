{
 "cells": [
  {
   "cell_type": "markdown",
   "id": "529a67c3",
   "metadata": {},
   "source": [
    "# <center>Predicting Car Prices with K-nearest Neighbour Machine Learning</center>\n",
    "\n",
    "<div>\n",
    "<img src=\"Data/_119875604_second_hand_cars_alamy.jpg\" width=\"600\"/>\n",
    "</div>\n",
    "\n",
    "In this guided project, we'll practice utlise the machine learning workflow to predict a car's market price using its attributes. The data set we will be working with contains information on various cars. For each car we have information about the technical aspects of the vehicle such as the motor's displacement, the weight of the car, the miles per gallon, how fast the car accelerates, and more. You can read more about the data set [here](https://archive.ics.uci.edu/ml/datasets/automobile) and can download it directly from [here](https://archive.ics.uci.edu/ml/machine-learning-databases/autos/imports-85.data)."
   ]
  },
  {
   "cell_type": "markdown",
   "id": "7e059c7c",
   "metadata": {},
   "source": [
    "# Importing Libraries"
   ]
  },
  {
   "cell_type": "code",
   "execution_count": 1,
   "id": "4863f12c",
   "metadata": {},
   "outputs": [],
   "source": [
    "# Standard Python libraries for data analysis\n",
    "import numpy as np\n",
    "import pandas as pd\n",
    "import matplotlib.pyplot as plt\n",
    "import seaborn as sns\n",
    "import random\n",
    "\n",
    "# Machine learning libraries and tools\n",
    "from sklearn.neighbors import KNeighborsRegressor\n",
    "from sklearn.metrics import mean_squared_error\n",
    "\n",
    "# Dealing with warnings and presentation of dataframes\n",
    "import warnings\n",
    "warnings.filterwarnings('ignore')\n",
    "pd.options.display.max_columns = 99"
   ]
  },
  {
   "cell_type": "markdown",
   "id": "6f592eee",
   "metadata": {},
   "source": [
    "# Reading in the Dataset"
   ]
  },
  {
   "cell_type": "code",
   "execution_count": 2,
   "id": "c14d1615",
   "metadata": {},
   "outputs": [],
   "source": [
    "# As there are no headers specified in the data, we add them upon reading in the data.\n",
    "\n",
    "col_names = ['symboling','normalized_losses','make','fuel_type','aspiration','num_doors','body_style','drive_wheels',\n",
    "             'engine_location','wheel_base','length','width','height','curb_weight','engine_type','num_cylinders',\n",
    "             'engine_size','fuel_system','bore','stroke','compression_ratio','horsepower','peak_rpm','city_mpg',\n",
    "             'highway_mpg','price']\n",
    "\n",
    "# Reading in the data with the columns names specified.\n",
    "cars = pd.read_csv('./Data/imports-85.data', names=col_names)"
   ]
  },
  {
   "cell_type": "code",
   "execution_count": 3,
   "id": "c1958b33",
   "metadata": {},
   "outputs": [
    {
     "data": {
      "text/html": [
       "<div>\n",
       "<style scoped>\n",
       "    .dataframe tbody tr th:only-of-type {\n",
       "        vertical-align: middle;\n",
       "    }\n",
       "\n",
       "    .dataframe tbody tr th {\n",
       "        vertical-align: top;\n",
       "    }\n",
       "\n",
       "    .dataframe thead th {\n",
       "        text-align: right;\n",
       "    }\n",
       "</style>\n",
       "<table border=\"1\" class=\"dataframe\">\n",
       "  <thead>\n",
       "    <tr style=\"text-align: right;\">\n",
       "      <th></th>\n",
       "      <th>symboling</th>\n",
       "      <th>normalized_losses</th>\n",
       "      <th>make</th>\n",
       "      <th>fuel_type</th>\n",
       "      <th>aspiration</th>\n",
       "      <th>num_doors</th>\n",
       "      <th>body_style</th>\n",
       "      <th>drive_wheels</th>\n",
       "      <th>engine_location</th>\n",
       "      <th>wheel_base</th>\n",
       "      <th>length</th>\n",
       "      <th>width</th>\n",
       "      <th>height</th>\n",
       "      <th>curb_weight</th>\n",
       "      <th>engine_type</th>\n",
       "      <th>num_cylinders</th>\n",
       "      <th>engine_size</th>\n",
       "      <th>fuel_system</th>\n",
       "      <th>bore</th>\n",
       "      <th>stroke</th>\n",
       "      <th>compression_ratio</th>\n",
       "      <th>horsepower</th>\n",
       "      <th>peak_rpm</th>\n",
       "      <th>city_mpg</th>\n",
       "      <th>highway_mpg</th>\n",
       "      <th>price</th>\n",
       "    </tr>\n",
       "  </thead>\n",
       "  <tbody>\n",
       "    <tr>\n",
       "      <th>0</th>\n",
       "      <td>3</td>\n",
       "      <td>?</td>\n",
       "      <td>alfa-romero</td>\n",
       "      <td>gas</td>\n",
       "      <td>std</td>\n",
       "      <td>two</td>\n",
       "      <td>convertible</td>\n",
       "      <td>rwd</td>\n",
       "      <td>front</td>\n",
       "      <td>88.6</td>\n",
       "      <td>168.8</td>\n",
       "      <td>64.1</td>\n",
       "      <td>48.8</td>\n",
       "      <td>2548</td>\n",
       "      <td>dohc</td>\n",
       "      <td>four</td>\n",
       "      <td>130</td>\n",
       "      <td>mpfi</td>\n",
       "      <td>3.47</td>\n",
       "      <td>2.68</td>\n",
       "      <td>9.0</td>\n",
       "      <td>111</td>\n",
       "      <td>5000</td>\n",
       "      <td>21</td>\n",
       "      <td>27</td>\n",
       "      <td>13495</td>\n",
       "    </tr>\n",
       "    <tr>\n",
       "      <th>1</th>\n",
       "      <td>3</td>\n",
       "      <td>?</td>\n",
       "      <td>alfa-romero</td>\n",
       "      <td>gas</td>\n",
       "      <td>std</td>\n",
       "      <td>two</td>\n",
       "      <td>convertible</td>\n",
       "      <td>rwd</td>\n",
       "      <td>front</td>\n",
       "      <td>88.6</td>\n",
       "      <td>168.8</td>\n",
       "      <td>64.1</td>\n",
       "      <td>48.8</td>\n",
       "      <td>2548</td>\n",
       "      <td>dohc</td>\n",
       "      <td>four</td>\n",
       "      <td>130</td>\n",
       "      <td>mpfi</td>\n",
       "      <td>3.47</td>\n",
       "      <td>2.68</td>\n",
       "      <td>9.0</td>\n",
       "      <td>111</td>\n",
       "      <td>5000</td>\n",
       "      <td>21</td>\n",
       "      <td>27</td>\n",
       "      <td>16500</td>\n",
       "    </tr>\n",
       "    <tr>\n",
       "      <th>2</th>\n",
       "      <td>1</td>\n",
       "      <td>?</td>\n",
       "      <td>alfa-romero</td>\n",
       "      <td>gas</td>\n",
       "      <td>std</td>\n",
       "      <td>two</td>\n",
       "      <td>hatchback</td>\n",
       "      <td>rwd</td>\n",
       "      <td>front</td>\n",
       "      <td>94.5</td>\n",
       "      <td>171.2</td>\n",
       "      <td>65.5</td>\n",
       "      <td>52.4</td>\n",
       "      <td>2823</td>\n",
       "      <td>ohcv</td>\n",
       "      <td>six</td>\n",
       "      <td>152</td>\n",
       "      <td>mpfi</td>\n",
       "      <td>2.68</td>\n",
       "      <td>3.47</td>\n",
       "      <td>9.0</td>\n",
       "      <td>154</td>\n",
       "      <td>5000</td>\n",
       "      <td>19</td>\n",
       "      <td>26</td>\n",
       "      <td>16500</td>\n",
       "    </tr>\n",
       "    <tr>\n",
       "      <th>3</th>\n",
       "      <td>2</td>\n",
       "      <td>164</td>\n",
       "      <td>audi</td>\n",
       "      <td>gas</td>\n",
       "      <td>std</td>\n",
       "      <td>four</td>\n",
       "      <td>sedan</td>\n",
       "      <td>fwd</td>\n",
       "      <td>front</td>\n",
       "      <td>99.8</td>\n",
       "      <td>176.6</td>\n",
       "      <td>66.2</td>\n",
       "      <td>54.3</td>\n",
       "      <td>2337</td>\n",
       "      <td>ohc</td>\n",
       "      <td>four</td>\n",
       "      <td>109</td>\n",
       "      <td>mpfi</td>\n",
       "      <td>3.19</td>\n",
       "      <td>3.40</td>\n",
       "      <td>10.0</td>\n",
       "      <td>102</td>\n",
       "      <td>5500</td>\n",
       "      <td>24</td>\n",
       "      <td>30</td>\n",
       "      <td>13950</td>\n",
       "    </tr>\n",
       "    <tr>\n",
       "      <th>4</th>\n",
       "      <td>2</td>\n",
       "      <td>164</td>\n",
       "      <td>audi</td>\n",
       "      <td>gas</td>\n",
       "      <td>std</td>\n",
       "      <td>four</td>\n",
       "      <td>sedan</td>\n",
       "      <td>4wd</td>\n",
       "      <td>front</td>\n",
       "      <td>99.4</td>\n",
       "      <td>176.6</td>\n",
       "      <td>66.4</td>\n",
       "      <td>54.3</td>\n",
       "      <td>2824</td>\n",
       "      <td>ohc</td>\n",
       "      <td>five</td>\n",
       "      <td>136</td>\n",
       "      <td>mpfi</td>\n",
       "      <td>3.19</td>\n",
       "      <td>3.40</td>\n",
       "      <td>8.0</td>\n",
       "      <td>115</td>\n",
       "      <td>5500</td>\n",
       "      <td>18</td>\n",
       "      <td>22</td>\n",
       "      <td>17450</td>\n",
       "    </tr>\n",
       "  </tbody>\n",
       "</table>\n",
       "</div>"
      ],
      "text/plain": [
       "   symboling normalized_losses         make fuel_type aspiration num_doors  \\\n",
       "0          3                 ?  alfa-romero       gas        std       two   \n",
       "1          3                 ?  alfa-romero       gas        std       two   \n",
       "2          1                 ?  alfa-romero       gas        std       two   \n",
       "3          2               164         audi       gas        std      four   \n",
       "4          2               164         audi       gas        std      four   \n",
       "\n",
       "    body_style drive_wheels engine_location  wheel_base  length  width  \\\n",
       "0  convertible          rwd           front        88.6   168.8   64.1   \n",
       "1  convertible          rwd           front        88.6   168.8   64.1   \n",
       "2    hatchback          rwd           front        94.5   171.2   65.5   \n",
       "3        sedan          fwd           front        99.8   176.6   66.2   \n",
       "4        sedan          4wd           front        99.4   176.6   66.4   \n",
       "\n",
       "   height  curb_weight engine_type num_cylinders  engine_size fuel_system  \\\n",
       "0    48.8         2548        dohc          four          130        mpfi   \n",
       "1    48.8         2548        dohc          four          130        mpfi   \n",
       "2    52.4         2823        ohcv           six          152        mpfi   \n",
       "3    54.3         2337         ohc          four          109        mpfi   \n",
       "4    54.3         2824         ohc          five          136        mpfi   \n",
       "\n",
       "   bore stroke  compression_ratio horsepower peak_rpm  city_mpg  highway_mpg  \\\n",
       "0  3.47   2.68                9.0        111     5000        21           27   \n",
       "1  3.47   2.68                9.0        111     5000        21           27   \n",
       "2  2.68   3.47                9.0        154     5000        19           26   \n",
       "3  3.19   3.40               10.0        102     5500        24           30   \n",
       "4  3.19   3.40                8.0        115     5500        18           22   \n",
       "\n",
       "   price  \n",
       "0  13495  \n",
       "1  16500  \n",
       "2  16500  \n",
       "3  13950  \n",
       "4  17450  "
      ]
     },
     "execution_count": 3,
     "metadata": {},
     "output_type": "execute_result"
    }
   ],
   "source": [
    "cars.head(5)"
   ]
  },
  {
   "cell_type": "markdown",
   "id": "c0afa67a",
   "metadata": {},
   "source": [
    "We want to identify which columns are numeric and can be used as features for training. We also want to identify the target column."
   ]
  },
  {
   "cell_type": "code",
   "execution_count": 4,
   "id": "d6afc6b3",
   "metadata": {},
   "outputs": [
    {
     "name": "stdout",
     "output_type": "stream",
     "text": [
      "<class 'pandas.core.frame.DataFrame'>\n",
      "RangeIndex: 205 entries, 0 to 204\n",
      "Data columns (total 26 columns):\n",
      " #   Column             Non-Null Count  Dtype  \n",
      "---  ------             --------------  -----  \n",
      " 0   symboling          205 non-null    int64  \n",
      " 1   normalized_losses  205 non-null    object \n",
      " 2   make               205 non-null    object \n",
      " 3   fuel_type          205 non-null    object \n",
      " 4   aspiration         205 non-null    object \n",
      " 5   num_doors          205 non-null    object \n",
      " 6   body_style         205 non-null    object \n",
      " 7   drive_wheels       205 non-null    object \n",
      " 8   engine_location    205 non-null    object \n",
      " 9   wheel_base         205 non-null    float64\n",
      " 10  length             205 non-null    float64\n",
      " 11  width              205 non-null    float64\n",
      " 12  height             205 non-null    float64\n",
      " 13  curb_weight        205 non-null    int64  \n",
      " 14  engine_type        205 non-null    object \n",
      " 15  num_cylinders      205 non-null    object \n",
      " 16  engine_size        205 non-null    int64  \n",
      " 17  fuel_system        205 non-null    object \n",
      " 18  bore               205 non-null    object \n",
      " 19  stroke             205 non-null    object \n",
      " 20  compression_ratio  205 non-null    float64\n",
      " 21  horsepower         205 non-null    object \n",
      " 22  peak_rpm           205 non-null    object \n",
      " 23  city_mpg           205 non-null    int64  \n",
      " 24  highway_mpg        205 non-null    int64  \n",
      " 25  price              205 non-null    object \n",
      "dtypes: float64(5), int64(5), object(16)\n",
      "memory usage: 41.8+ KB\n"
     ]
    }
   ],
   "source": [
    "cars.info()"
   ]
  },
  {
   "cell_type": "markdown",
   "id": "0b6badfb",
   "metadata": {},
   "source": [
    "The following columns are numeric and can be used as features for the training of our machine learning algorithm:\n",
    "\n",
    "- <mark>normalized_losses</mark> (needs conversion to numeric format).\n",
    "- <mark>wheel_base</mark>\n",
    "- <mark>length</mark>\n",
    "- <mark>width</mark>\n",
    "- <mark>height</mark>\n",
    "- <mark>curb_weight</mark>\n",
    "- <mark>engine_size</mark>\n",
    "- <mark>bore</mark> (needs conversion to numeric format).\n",
    "- <mark>stroke</mark> (needs conversion to numeric format).\n",
    "- <mark>compression_ratio</mark>\n",
    "- <mark>horsepower</mark> (needs conversion to numeric format).\n",
    "- <mark>peak_rpm</mark>  (needs conversion to numeric format).\n",
    "- <mark>city_mpg</mark>\n",
    "- <mark>highway_mpg</mark>\n",
    "\n",
    "And the target feature is the <mark>price</mark> (needs conversion to numeric format)."
   ]
  },
  {
   "cell_type": "markdown",
   "id": "2fe0b29e",
   "metadata": {},
   "source": [
    "# Data Sorting and Cleaning\n",
    "\n",
    "We are going to reduce the dataset to only the columns we are interested, clean these columns, and convert to the correct formats:"
   ]
  },
  {
   "cell_type": "code",
   "execution_count": 5,
   "id": "67a4d888",
   "metadata": {},
   "outputs": [],
   "source": [
    "# Specifying the columns that we are going to use as features or targets for the training/testing process:\n",
    "\n",
    "features_target = ['normalized_losses', 'wheel_base', 'length', 'width', 'height', 'curb_weight', 'engine_size', 'bore',\n",
    "                  'stroke', 'compression_ratio', 'horsepower', 'peak_rpm', 'city_mpg', 'highway_mpg', 'price']\n",
    "\n",
    "cars_df = cars[features_target]\n",
    "\n",
    "# Replacing all instances of \"?\" with NaN values\n",
    "cars_df = cars_df.replace('?', np.NaN)\n",
    "\n",
    "# Converting non-numeric columns to numeric data formats\n",
    "\n",
    "for_conversion = ['normalized_losses', 'bore', 'stroke', 'horsepower','peak_rpm','price']\n",
    "\n",
    "for i in for_conversion:\n",
    "    cars_df[i] = pd.to_numeric(cars_df[i])"
   ]
  },
  {
   "cell_type": "code",
   "execution_count": 6,
   "id": "ae521ebc",
   "metadata": {},
   "outputs": [
    {
     "name": "stdout",
     "output_type": "stream",
     "text": [
      "<class 'pandas.core.frame.DataFrame'>\n",
      "RangeIndex: 205 entries, 0 to 204\n",
      "Data columns (total 15 columns):\n",
      " #   Column             Non-Null Count  Dtype  \n",
      "---  ------             --------------  -----  \n",
      " 0   normalized_losses  164 non-null    float64\n",
      " 1   wheel_base         205 non-null    float64\n",
      " 2   length             205 non-null    float64\n",
      " 3   width              205 non-null    float64\n",
      " 4   height             205 non-null    float64\n",
      " 5   curb_weight        205 non-null    int64  \n",
      " 6   engine_size        205 non-null    int64  \n",
      " 7   bore               201 non-null    float64\n",
      " 8   stroke             201 non-null    float64\n",
      " 9   compression_ratio  205 non-null    float64\n",
      " 10  horsepower         203 non-null    float64\n",
      " 11  peak_rpm           203 non-null    float64\n",
      " 12  city_mpg           205 non-null    int64  \n",
      " 13  highway_mpg        205 non-null    int64  \n",
      " 14  price              201 non-null    float64\n",
      "dtypes: float64(11), int64(4)\n",
      "memory usage: 24.1 KB\n"
     ]
    }
   ],
   "source": [
    "cars_df.info()"
   ]
  },
  {
   "cell_type": "markdown",
   "id": "8563e678",
   "metadata": {},
   "source": [
    "We can see that we have cleaned the dataset so that we have numeric values in each column. However, we can now see that we have several rows with NaN values."
   ]
  },
  {
   "cell_type": "code",
   "execution_count": 7,
   "id": "435b337c",
   "metadata": {
    "scrolled": true
   },
   "outputs": [
    {
     "data": {
      "text/plain": [
       "normalized_losses    41\n",
       "wheel_base            0\n",
       "length                0\n",
       "width                 0\n",
       "height                0\n",
       "curb_weight           0\n",
       "engine_size           0\n",
       "bore                  4\n",
       "stroke                4\n",
       "compression_ratio     0\n",
       "horsepower            2\n",
       "peak_rpm              2\n",
       "city_mpg              0\n",
       "highway_mpg           0\n",
       "price                 4\n",
       "dtype: int64"
      ]
     },
     "execution_count": 7,
     "metadata": {},
     "output_type": "execute_result"
    }
   ],
   "source": [
    "# Counting total NaN values in each feature column.\n",
    "cars_df.isnull().sum()"
   ]
  },
  {
   "cell_type": "markdown",
   "id": "b9b7c9e2",
   "metadata": {},
   "source": [
    "As our target column is <mark>price</mark>, we are going to drop all rows that do not have a <mark>price</mark> value."
   ]
  },
  {
   "cell_type": "code",
   "execution_count": 8,
   "id": "7d940576",
   "metadata": {},
   "outputs": [
    {
     "data": {
      "text/plain": [
       "normalized_losses    37\n",
       "wheel_base            0\n",
       "length                0\n",
       "width                 0\n",
       "height                0\n",
       "curb_weight           0\n",
       "engine_size           0\n",
       "bore                  4\n",
       "stroke                4\n",
       "compression_ratio     0\n",
       "horsepower            2\n",
       "peak_rpm              2\n",
       "city_mpg              0\n",
       "highway_mpg           0\n",
       "price                 0\n",
       "dtype: int64"
      ]
     },
     "execution_count": 8,
     "metadata": {},
     "output_type": "execute_result"
    }
   ],
   "source": [
    "# Only keeping rows that have real values in the price column\n",
    "cars_df = cars_df[cars_df['price'].notna()]\n",
    "\n",
    "# Recounting the NaN values to see that we have removed the price NaN's\n",
    "cars_df.isnull().sum()"
   ]
  },
  {
   "cell_type": "markdown",
   "id": "dd2db883",
   "metadata": {},
   "source": [
    "As we only have a limited number of entries remaining, we will not remove the whole row if one feature is a NaN value. Instead we will replace that NaN value with the average of the column."
   ]
  },
  {
   "cell_type": "code",
   "execution_count": 9,
   "id": "5cacc743",
   "metadata": {
    "scrolled": true
   },
   "outputs": [],
   "source": [
    "cars_df = cars_df.fillna(cars_df.mean())"
   ]
  },
  {
   "cell_type": "code",
   "execution_count": 10,
   "id": "e31d9f72",
   "metadata": {},
   "outputs": [
    {
     "data": {
      "text/plain": [
       "normalized_losses    0\n",
       "wheel_base           0\n",
       "length               0\n",
       "width                0\n",
       "height               0\n",
       "curb_weight          0\n",
       "engine_size          0\n",
       "bore                 0\n",
       "stroke               0\n",
       "compression_ratio    0\n",
       "horsepower           0\n",
       "peak_rpm             0\n",
       "city_mpg             0\n",
       "highway_mpg          0\n",
       "price                0\n",
       "dtype: int64"
      ]
     },
     "execution_count": 10,
     "metadata": {},
     "output_type": "execute_result"
    }
   ],
   "source": [
    "# Checking that we have removed all NaN values from the dataset:\n",
    "cars_df.isnull().sum()"
   ]
  },
  {
   "cell_type": "markdown",
   "id": "8bc6820b",
   "metadata": {},
   "source": [
    "## Feature Scaling\n",
    "\n",
    "We are going to scale the values in each column to range from 0 - 1. Feature scaling is a method used to normalise the range of independent variables or features of data. We want to only apply this normalisation to the feature columns and not the target column."
   ]
  },
  {
   "cell_type": "code",
   "execution_count": 11,
   "id": "c68772e7",
   "metadata": {},
   "outputs": [
    {
     "name": "stdout",
     "output_type": "stream",
     "text": [
      "Feature Minimums\n",
      "----------------\n",
      "normalized_losses       0.0\n",
      "wheel_base              0.0\n",
      "length                  0.0\n",
      "width                   0.0\n",
      "height                  0.0\n",
      "curb_weight             0.0\n",
      "engine_size             0.0\n",
      "bore                    0.0\n",
      "stroke                  0.0\n",
      "compression_ratio       0.0\n",
      "horsepower              0.0\n",
      "peak_rpm                0.0\n",
      "city_mpg                0.0\n",
      "highway_mpg             0.0\n",
      "price                5118.0\n",
      "dtype: float64\n",
      " \n",
      "Feature Maximums\n",
      "----------------\n",
      "normalized_losses        1.0\n",
      "wheel_base               1.0\n",
      "length                   1.0\n",
      "width                    1.0\n",
      "height                   1.0\n",
      "curb_weight              1.0\n",
      "engine_size              1.0\n",
      "bore                     1.0\n",
      "stroke                   1.0\n",
      "compression_ratio        1.0\n",
      "horsepower               1.0\n",
      "peak_rpm                 1.0\n",
      "city_mpg                 1.0\n",
      "highway_mpg              1.0\n",
      "price                45400.0\n",
      "dtype: float64\n"
     ]
    }
   ],
   "source": [
    "# Keeping the price column to replace later\n",
    "price_place_holder = cars_df['price']\n",
    "\n",
    "# Performing a normalisation on the dataframe (works on individual columns/features)\n",
    "normalized_df = (cars_df-cars_df.min())/(cars_df.max()-cars_df.min())\n",
    "\n",
    "# Replacing the prices back\n",
    "normalized_df['price'] = price_place_holder\n",
    "\n",
    "# Checking that the minimum and maximum for each feature is 0 and 1, respectively.\n",
    "print('Feature Minimums')\n",
    "print('----------------')\n",
    "print(normalized_df.min())\n",
    "print(' ')\n",
    "print('Feature Maximums')\n",
    "print('----------------')\n",
    "print(normalized_df.max())"
   ]
  },
  {
   "cell_type": "markdown",
   "id": "e0ba9c96",
   "metadata": {},
   "source": [
    "# Univariate K-Nearest Neighbour Modelling.\n",
    "\n",
    "We are going to start with some univariate k-nearest neighbors models. Starting with simple models before moving to more complex models helps us structure the code workflow and understand the features better. The fist step is:\n",
    "\n",
    "- Create a function, named knn_train_test() that encapsulates the training and simple validation process. This function will have 3 parameters -- training column name, target column name, and the dataframe object.\n",
    "    - This function will split the data set into a training and test set.\n",
    "    - Then, it will instantiate the KNeighborsRegressor class, fit the model on the training set, and make predictions on the test set.\n",
    "    - Finally, it will calculate the RMSE and return that value.\n"
   ]
  },
  {
   "cell_type": "code",
   "execution_count": 12,
   "id": "5950ea2a",
   "metadata": {},
   "outputs": [
    {
     "data": {
      "text/plain": [
       "5089.1383108470045"
      ]
     },
     "execution_count": 12,
     "metadata": {},
     "output_type": "execute_result"
    }
   ],
   "source": [
    "# Creating the knn_train_test fucntion\n",
    "\n",
    "def knn_train_test(train_col,target_col,dataframe_obj):\n",
    "    \n",
    "    # Randomise the order of the dataset:\n",
    "    np.random.seed(1)\n",
    "    random_index = np.random.permutation(dataframe_obj.index)\n",
    "    randomised_df = dataframe_obj.reindex(random_index)\n",
    "    \n",
    "    # Splitting the dataset into training and testing - can modify split by changing the fraction below:\n",
    "    split_pos = int((round(len(randomised_df)*0.5, 0)))\n",
    "    train_ds = randomised_df[0:split_pos]\n",
    "    test_ds = randomised_df[split_pos:]\n",
    "    \n",
    "    # Instantiating the KNeighborsRegressor class\n",
    "    knn = KNeighborsRegressor()\n",
    "\n",
    "    # Training the data\n",
    "    knn.fit(train_ds[[train_col]],train_ds[[target_col]])\n",
    "    \n",
    "    # Predicting the data for the test dataset\n",
    "    predicted_price = knn.predict(test_ds[[train_col]])\n",
    "    \n",
    "    # Calculating the root mean squared error\n",
    "    \n",
    "    rmse = (mean_squared_error(predicted_price,test_ds['price']))**0.5\n",
    "    \n",
    "    return(rmse)\n",
    "    \n",
    "# Testing an example\n",
    "knn_train_test('city_mpg','price', normalized_df)"
   ]
  },
  {
   "cell_type": "markdown",
   "id": "e8082629",
   "metadata": {},
   "source": [
    "Next we are going to ese this function to train and test univariate models using the different numeric columns in the data set. We will record which feature performed the best using the default k value (5)."
   ]
  },
  {
   "cell_type": "code",
   "execution_count": 13,
   "id": "d00ddbb7",
   "metadata": {},
   "outputs": [],
   "source": [
    "# We want to loop through all columns except for price.\n",
    "\n",
    "# Listing the features\n",
    "features = list(normalized_df.columns)\n",
    "\n",
    "# Removing price from the list of features\n",
    "features.remove('price')\n",
    "\n",
    "# We are going to want to record the rmse, so we initiate an empty disctionary.\n",
    "\n",
    "rmse_results = {}\n",
    "\n",
    "for feature in features:\n",
    "    rmse_value = knn_train_test(feature,'price', normalized_df)\n",
    "    rmse_results[feature] = rmse_value\n",
    "    "
   ]
  },
  {
   "cell_type": "code",
   "execution_count": 14,
   "id": "b2c6ffde",
   "metadata": {},
   "outputs": [
    {
     "data": {
      "text/plain": [
       "{'normalized_losses': 7627.705962288315,\n",
       " 'wheel_base': 5465.236829414088,\n",
       " 'length': 5419.972211210776,\n",
       " 'width': 4619.368133208157,\n",
       " 'height': 7592.144534847831,\n",
       " 'curb_weight': 4410.7577852337345,\n",
       " 'engine_size': 3271.2013993711125,\n",
       " 'bore': 6760.26377750056,\n",
       " 'stroke': 8371.272109274954,\n",
       " 'compression_ratio': 6276.684871099481,\n",
       " 'horsepower': 3998.4520396357548,\n",
       " 'peak_rpm': 7373.27237750453,\n",
       " 'city_mpg': 5089.1383108470045,\n",
       " 'highway_mpg': 5180.535835162802}"
      ]
     },
     "execution_count": 14,
     "metadata": {},
     "output_type": "execute_result"
    }
   ],
   "source": [
    "rmse_results"
   ]
  },
  {
   "cell_type": "markdown",
   "id": "1b36ba85",
   "metadata": {},
   "source": [
    "We can see that from the univariate K-nearest neighbour testing that the feature with the best prediction on price in <mark>highway_mpg</mark>, with a RMSE value of $3,840. This inidcates that fuel effeciency of vehicles has the greatest effect on price."
   ]
  },
  {
   "cell_type": "markdown",
   "id": "64ae201d",
   "metadata": {},
   "source": [
    "# Modified Univariate K-Nearest Neighbour Modelling.\n",
    "\n",
    "We are now going to modify the knn_train_test() function that we wrote to accept a parameter for the k value. To achieve this, we will do the following:\n",
    "\n",
    "- Update the function logic to use this parameter.\n",
    "- For each numeric column, create, train, and test a univariate model using the following k values (1, 3, 5, 7, and 9).\n",
    "- Visualise the results using a scatter plot or a line plot.\n"
   ]
  },
  {
   "cell_type": "code",
   "execution_count": 15,
   "id": "bfb9be1f",
   "metadata": {},
   "outputs": [
    {
     "data": {
      "text/plain": [
       "{1: 4979.29215216718,\n",
       " 3: 4794.264544948756,\n",
       " 5: 5089.1383108470045,\n",
       " 7: 5434.675786226279,\n",
       " 9: 5190.536407742247}"
      ]
     },
     "execution_count": 15,
     "metadata": {},
     "output_type": "execute_result"
    }
   ],
   "source": [
    "# Updating the knn_train_test function\n",
    "\n",
    "# creating a list of k values to test\n",
    "k_values = [1,3,5,7,9]\n",
    "\n",
    "# Adding an extra variable in the function call, which is a list of k values to test\n",
    "def knn_train_test_k_values(train_col,target_col,dataframe_obj, k_values):\n",
    "    \n",
    "    # Randomise the order of the dataset:\n",
    "    np.random.seed(1)\n",
    "    random_index = np.random.permutation(dataframe_obj.index)\n",
    "    randomised_df = dataframe_obj.reindex(random_index)\n",
    "    \n",
    "    # Splitting the dataset into training and testing - can modify split by changing the fraction below:\n",
    "    split_pos = int((round(len(randomised_df)*0.5, 0)))\n",
    "    train_ds = randomised_df[0:split_pos]\n",
    "    test_ds = randomised_df[split_pos:]\n",
    "    \n",
    "    # Setting up a dictionary to record the different k-values\n",
    "    \n",
    "    k_rmses = {}\n",
    "    \n",
    "    # Going to loop through a list of different k values\n",
    "        \n",
    "    for k in k_values:\n",
    "    \n",
    "        # Instantiating the KNeighborsRegressor class - note we are now specifying the n_neighbors\n",
    "        knn = KNeighborsRegressor(n_neighbors=k)\n",
    "    \n",
    "        # Training the data\n",
    "        knn.fit(train_ds[[train_col]],train_ds[[target_col]])\n",
    "    \n",
    "        # Predicting the data for the test dataset\n",
    "        predicted_price = knn.predict(test_ds[[train_col]])\n",
    "    \n",
    "        # Calculating the root mean squared error\n",
    "    \n",
    "        rmse = (mean_squared_error(predicted_price,test_ds['price']))**0.5\n",
    "        \n",
    "        k_rmses[k] = rmse\n",
    "    \n",
    "    return(k_rmses)\n",
    "    \n",
    "# Testing an example\n",
    "knn_train_test_k_values('city_mpg','price', normalized_df, k_values)"
   ]
  },
  {
   "cell_type": "code",
   "execution_count": 16,
   "id": "25c00f57",
   "metadata": {},
   "outputs": [],
   "source": [
    "# We want to loop through all columns except for price.\n",
    "\n",
    "# Listing the features\n",
    "features = list(normalized_df.columns)\n",
    "\n",
    "# Removing price from the list of features\n",
    "features.remove('price')\n",
    "\n",
    "# We are going to want to record the rmse, so we initiate an empty disctionary.\n",
    "k_rmse_results = {}\n",
    "\n",
    "# We want to test the following k-values:\n",
    "k_values = [1,3,5,7,9]\n",
    "\n",
    "for feature in features:\n",
    "    rmse_value = knn_train_test_k_values(feature,'price', normalized_df,k_values)\n",
    "    k_rmse_results[feature] = rmse_value"
   ]
  },
  {
   "cell_type": "code",
   "execution_count": 17,
   "id": "927d512d",
   "metadata": {},
   "outputs": [
    {
     "name": "stdout",
     "output_type": "stream",
     "text": [
      "normalized_losses    {1: 9280.94986710108, 3: 6961.106163204347, 5:...\n",
      "wheel_base           {1: 4627.561273136604, 3: 5121.630694446549, 5...\n",
      "length               {1: 5169.802314431087, 3: 5215.57978375828, 5:...\n",
      "width                {1: 4718.212860189694, 3: 4616.675183893205, 5...\n",
      "height               {1: 7745.61191262447, 3: 8041.040589866264, 5:...\n",
      "curb_weight          {1: 5520.943644230783, 3: 5038.26321442437, 5:...\n",
      "engine_size          {1: 3201.3594590640105, 3: 2835.030228999319, ...\n",
      "bore                 {1: 9618.718150121935, 3: 7454.3205773985255, ...\n",
      "stroke               {1: 7096.410249953392, 3: 7397.3090224335865, ...\n",
      "compression_ratio    {1: 7095.658904367424, 3: 6249.4110124235085, ...\n",
      "horsepower           {1: 3576.8477133303336, 3: 3938.8640493040493,...\n",
      "peak_rpm             {1: 9567.291125765356, 3: 7853.677927366177, 5...\n",
      "city_mpg             {1: 4979.29215216718, 3: 4794.264544948756, 5:...\n",
      "highway_mpg          {1: 5514.93348702744, 3: 5432.14306476989, 5: ...\n",
      "dtype: object\n"
     ]
    }
   ],
   "source": [
    "# Checking to see that we have output the results in the correct dictionary format:\n",
    "print(pd.Series(k_rmse_results))"
   ]
  },
  {
   "cell_type": "code",
   "execution_count": 18,
   "id": "087ea77f",
   "metadata": {},
   "outputs": [
    {
     "data": {
      "text/plain": [
       "Text(0.5, 1.0, 'Effects of k-value on error for various car features')"
      ]
     },
     "execution_count": 18,
     "metadata": {},
     "output_type": "execute_result"
    },
    {
     "data": {
      "image/png": "[encoded data removed]",
      "text/plain": [
       "<Figure size 1080x576 with 1 Axes>"
      ]
     },
     "metadata": {
      "needs_background": "light"
     },
     "output_type": "display_data"
    }
   ],
   "source": [
    "# Plotting the results\n",
    "\n",
    "# Initiating a figure and specifying it's size\n",
    "f = plt.figure()\n",
    "f.set_figwidth(15)\n",
    "f.set_figheight(8)\n",
    "\n",
    "# Looping through the nested dictionary to extract the RMSE values at different k-values for all features and plottin\n",
    "for key, values in k_rmse_results.items():\n",
    "    x = list(values.keys())\n",
    "    y = list(values.values())\n",
    "    plt.plot(x,y)\n",
    "    \n",
    "\n",
    "# Plotting the legend and labels on our plot\n",
    "labels = list(k_rmse_results.keys())\n",
    "plt.legend(labels,loc=1)\n",
    "plt.xlabel('k-value')\n",
    "plt.ylabel('RMSE')\n",
    "plt.title('Effects of k-value on error for various car features')"
   ]
  },
  {
   "cell_type": "markdown",
   "id": "70a6d75e",
   "metadata": {},
   "source": [
    "# Multivariate K-Nearest Neighbour Modelling.\n",
    "\n",
    "Now that we have a univariate K-near neighbours algorithm, we want to modify it so that it will accept more than one feature for comparison. In other words, we now want to modify the code to make a multivariate k-nearest neighbor modeller. We will achieve this by:\n",
    "\n",
    "- Modifying the knn_train_test() function to accept a list of column names (instead of just a string). Modify the rest of the function logic to use this parameter:\n",
    "    - Instead of using just a single column for train and test, use all of the columns passed in.\n",
    "    - Use a the default k value from scikit-learn for now (we'll tune the k value in the next step)."
   ]
  },
  {
   "cell_type": "code",
   "execution_count": 19,
   "id": "881c8ad3",
   "metadata": {},
   "outputs": [
    {
     "name": "stdout",
     "output_type": "stream",
     "text": [
      "The RMSE when using columns: ['stroke', 'city_mpg'] is 5343.15\n"
     ]
    }
   ],
   "source": [
    "# Updating the knn_train_test function to make it multivariate\n",
    "\n",
    "# We are going to keep the functionality to provide a range of k-value, but for now will use the default of 5 \n",
    "k_values = [5]\n",
    "\n",
    "training_columns_list = ['stroke','city_mpg']\n",
    "\n",
    "# Instead of giving the algorithm a single training column, we are going to give it a list, all other variables are the same\n",
    "def multivar_knn_train_test_k_values(training_columns_list,target_col,dataframe_obj, k_values):\n",
    "    \n",
    "    # Randomise the order of the dataset:\n",
    "    np.random.seed(1)\n",
    "    random_index = np.random.permutation(dataframe_obj.index)\n",
    "    randomised_df = dataframe_obj.reindex(random_index)\n",
    "    \n",
    "    # Splitting the dataset into training and testing - can modify split by changing the fraction below:\n",
    "    split_pos = int((round(len(randomised_df)*0.5, 0)))\n",
    "    train_ds = randomised_df[0:split_pos]\n",
    "    test_ds = randomised_df[split_pos:]\n",
    "    \n",
    "    # Setting up a dictionary to record the different k-values\n",
    "    \n",
    "    k_rmses = {}\n",
    "    \n",
    "    # Going to loop through a list of different k values\n",
    "        \n",
    "    for k in k_values:\n",
    "    \n",
    "        # Instantiating the KNeighborsRegressor class - note we are now specifying the n_neighbors\n",
    "        knn = KNeighborsRegressor(n_neighbors=k)\n",
    "    \n",
    "        # Training the data\n",
    "        knn.fit(train_ds[training_columns_list],train_ds[[target_col]])\n",
    "    \n",
    "        # Predicting the data for the test dataset\n",
    "        predicted_price = knn.predict(test_ds[training_columns_list])\n",
    "    \n",
    "        # Calculating the root mean squared error\n",
    "    \n",
    "        rmse = (mean_squared_error(predicted_price,test_ds['price']))**0.5\n",
    "        k_rmses[k] = rmse\n",
    "    \n",
    "    return(k_rmses, rmse)\n",
    "    \n",
    "# Testing an example\n",
    "k_rmses, rmse = multivar_knn_train_test_k_values(training_columns_list,'price', normalized_df, k_values)\n",
    "\n",
    "print('The RMSE when using columns: ' + str(training_columns_list) + ' is ' + str(round(rmse,2)))"
   ]
  },
  {
   "cell_type": "markdown",
   "id": "0b794af0",
   "metadata": {},
   "source": [
    "# Testing Feature Permuations in K-Nearest Neighbour Training\n",
    "\n",
    "Now that we have the code working for multiple variates, we want to do the following tests:\n",
    "\n",
    "- Use the best 2 features from the previous step to train and test a multivariate k-nearest neighbors model using the default <mark>k</mark> value.\n",
    "- Use the best 3 features from the previous step to train and test a multivariate k-nearest neighbors model using the default <mark>k</mark> value.\n",
    "- Use the best 4 features from the previous step to train and test a multivariate k-nearest neighbors model using the default <mark>k</mark> value.\n",
    "- Use the best 5 features from the previous step to train and test a multivariate k-nearest neighbors model using the default <mark>k</mark> value.\n",
    "- Display all of the RMSE values.\n",
    "\n",
    "However, first we want to understand what were the best features from our k-value analysis. Recall that we stored our RMSE results for different k-values, tested on all features, in <mark>k_rmse_results</mark>:"
   ]
  },
  {
   "cell_type": "code",
   "execution_count": 20,
   "id": "ffb6f2fc",
   "metadata": {},
   "outputs": [
    {
     "data": {
      "text/plain": [
       "engine_size          3328\n",
       "horsepower           4076\n",
       "width                4642\n",
       "curb_weight          4794\n",
       "city_mpg             5098\n",
       "wheel_base           5295\n",
       "length               5298\n",
       "highway_mpg          5304\n",
       "compression_ratio    6648\n",
       "bore                 7550\n",
       "stroke               7676\n",
       "height               7764\n",
       "normalized_losses    7811\n",
       "peak_rpm             7834\n",
       "dtype: int64"
      ]
     },
     "execution_count": 20,
     "metadata": {},
     "output_type": "execute_result"
    }
   ],
   "source": [
    "# Quick and dirty way of getting the RMSE average over all tested k-values, for all features:\n",
    "\n",
    "#for k, v in rmse_results.items():\n",
    "#    print(str(k) + \": \" + str(round(np.mean(list(v.values())))))\n",
    "\n",
    "\n",
    "# Taking these values and putting them into a dictionary\n",
    "variate_averages = {}\n",
    "\n",
    "for key, values in k_rmse_results.items():\n",
    "    variate_averages[key] = round(np.mean(list(values.values())))\n",
    "    \n",
    "# Converting dictionary to a series and then sorting the values.    \n",
    "var_averages = pd.Series(variate_averages)\n",
    "var_averages.sort_values()"
   ]
  },
  {
   "cell_type": "markdown",
   "id": "78f350f2",
   "metadata": {},
   "source": [
    "We can see that the five features yielding the lowest RMSE over a range of k-values are: \n",
    "- <mark>engine_size</mark>\n",
    "- <mark>horsepower</mark>\n",
    "- <mark>highway_mpg</mark>\n",
    "- <mark>width</mark>\n",
    "- <mark>city_mpg</mark>\n",
    "\n",
    "Testing these with our modifed multivariate code (and constant k-value of 5):"
   ]
  },
  {
   "cell_type": "code",
   "execution_count": 21,
   "id": "da95842b",
   "metadata": {},
   "outputs": [],
   "source": [
    "# We are going to start by initiating a dictionary to record the RMSE for 2,3,4 and 5 different features.\n",
    "\n",
    "multi_var_results = {}\n",
    "\n",
    "# Creating a list of feature lists that we want to test:\n",
    "list_of_feature_lists = [['engine_size','horsepower'],\n",
    "                         ['engine_size','horsepower','highway_mpg'],\n",
    "                         ['engine_size','horsepower','highway_mpg','width'],\n",
    "                         ['engine_size','horsepower','highway_mpg','width','city_mpg']]\n",
    "\n",
    "# Cycling through the list of feature lists and applying our multi-variate algorithm:\n",
    "\n",
    "count = 1\n",
    "\n",
    "for training_columns_list in list_of_feature_lists:\n",
    "    count += 1\n",
    "    # Feeding the function the list of features to test, the target column (price), the dataframe, and list of k-values\n",
    "    k_rmses, rmse = multivar_knn_train_test_k_values(training_columns_list,'price', normalized_df, k_values)\n",
    "    \n",
    "    # Recording the RMSE result in our dictionary\n",
    "    multi_var_results['Top {} features'.format(count)] = rmse\n"
   ]
  },
  {
   "cell_type": "code",
   "execution_count": 22,
   "id": "79f90ae2",
   "metadata": {},
   "outputs": [
    {
     "data": {
      "text/plain": [
       "Top 2 features    2955.187607\n",
       "Top 3 features    3028.051130\n",
       "Top 4 features    3539.032939\n",
       "Top 5 features    3476.955967\n",
       "dtype: float64"
      ]
     },
     "execution_count": 22,
     "metadata": {},
     "output_type": "execute_result"
    }
   ],
   "source": [
    "pd.Series(multi_var_results)"
   ]
  },
  {
   "cell_type": "markdown",
   "id": "150365dc",
   "metadata": {},
   "source": [
    "We can see that with two or three features used in the K-nearest neighbour training, that we are getting RMSE values lower than with any one feature."
   ]
  },
  {
   "cell_type": "markdown",
   "id": "bfb906c7",
   "metadata": {},
   "source": [
    "# Hyperparameter Optimisation\n",
    "\n",
    "- For the top 3 models in the last step, we are going tovary the hyperparameter value (k-value) from 1 to 25 and plot the resulting RMSE values.\n",
    "- This will allow us to identify which k value is optimal for each model.\n",
    "\n",
    "As we have already written the algorithm to deal with a list of k-values, below we apply the code:"
   ]
  },
  {
   "cell_type": "code",
   "execution_count": 23,
   "id": "ec517ce2",
   "metadata": {},
   "outputs": [],
   "source": [
    "# We are going to keep the functionality to provide a range of k-value, but for now will use the default of 5 \n",
    "k_values = list(range(1,26))\n",
    "\n",
    "multi_var_multi_k_results = {}\n",
    "\n",
    "\n",
    "list_of_feature_lists = [['engine_size','horsepower'],\n",
    "                         ['engine_size','horsepower','highway_mpg'],\n",
    "                         ['engine_size','horsepower','highway_mpg','width'],\n",
    "                         ['engine_size','horsepower','highway_mpg','width','city_mpg']]\n",
    "\n",
    "# Cycling through the list of feature lists and applying our multi-variate algorithm:\n",
    "\n",
    "count = 1\n",
    "\n",
    "for training_columns_list in list_of_feature_lists:\n",
    "    count += 1\n",
    "    # Feeding the function the list of features to test, the target column (price), the dataframe, and list of k-values\n",
    "    k_rmses, rmse = multivar_knn_train_test_k_values(training_columns_list,'price', normalized_df, k_values)\n",
    "    \n",
    "    # Recording the RMSE result in our dictionary\n",
    "    multi_var_multi_k_results[str(training_columns_list)] = k_rmses"
   ]
  },
  {
   "cell_type": "code",
   "execution_count": 24,
   "id": "8231a0d3",
   "metadata": {},
   "outputs": [
    {
     "data": {
      "text/plain": [
       "['engine_size', 'horsepower']                                        {1: 2450.2738763874804, 2: 2661.9987126292162,...\n",
       "['engine_size', 'horsepower', 'highway_mpg']                         {1: 3243.7819129851964, 2: 2902.49603661646, 3...\n",
       "['engine_size', 'horsepower', 'highway_mpg', 'width']                {1: 3187.6515658005183, 2: 3296.068785404639, ...\n",
       "['engine_size', 'horsepower', 'highway_mpg', 'width', 'city_mpg']    {1: 3203.298919910071, 2: 3203.9435284760193, ...\n",
       "dtype: object"
      ]
     },
     "execution_count": 24,
     "metadata": {},
     "output_type": "execute_result"
    }
   ],
   "source": [
    "pd.Series(multi_var_multi_k_results)"
   ]
  },
  {
   "cell_type": "code",
   "execution_count": 25,
   "id": "d094b0ae",
   "metadata": {},
   "outputs": [
    {
     "data": {
      "text/plain": [
       "Text(0.5, 1.0, 'Effects of k-value on error for various car features used in KNN training')"
      ]
     },
     "execution_count": 25,
     "metadata": {},
     "output_type": "execute_result"
    },
    {
     "data": {
      "image/png": "[encoded data removed]",
      "text/plain": [
       "<Figure size 1080x576 with 1 Axes>"
      ]
     },
     "metadata": {
      "needs_background": "light"
     },
     "output_type": "display_data"
    }
   ],
   "source": [
    "# Plotting the results\n",
    "\n",
    "# Initiating a figure and specifying it's size\n",
    "f = plt.figure()\n",
    "f.set_figwidth(15)\n",
    "f.set_figheight(8)\n",
    "\n",
    "# Looping through the nested dictionary to extract the RMSE values at different k-values for all features and plottin\n",
    "for key, values in multi_var_multi_k_results.items():\n",
    "    x = list(values.keys())\n",
    "    y = list(values.values())\n",
    "    plt.plot(x,y)\n",
    "    \n",
    "\n",
    "# Plotting the legend and labels on our plot\n",
    "labels = list(multi_var_multi_k_results.keys())\n",
    "plt.legend(labels,loc=1)\n",
    "plt.xlabel('k-value')\n",
    "plt.xticks(np.arange(0, 25+1, 5))\n",
    "plt.ylabel('RMSE')\n",
    "plt.title('Effects of k-value on error for various car features used in KNN training')"
   ]
  },
  {
   "cell_type": "markdown",
   "id": "f89bc630",
   "metadata": {},
   "source": [
    "# Conclusions\n",
    "\n",
    "From our K-nearest neighbour algorithm training, we can see that the two best features for the prediction of car price is <mark>engine_size</mark> and <mark>horsepower</mark>. Interestingly, we get the lowest root mean square error when we are only comparing to the nearest comparable vehicle (k = 1).\n",
    "\n",
    "At low k-values, the other combinations of features for training have RMSE values approximately \\$800 higher than the use of the two features mentioned above. Interestingly, <mark>highway_mpg</mark> and <mark>city_mpg</mark> are likely tied to <mark>engine_size</mark> and <mark>horsepower</mark>. What we cannot tell from these graphs, is whether this relationship is positive or negatively correlated. For example: are people picking smaller and more effecient engines which correlates with great miles per gallon, or are there two classses of buyers, those who want large, powerful and ineffecient engines, and those who want smaller, economical cars."
   ]
  },
  {
   "cell_type": "markdown",
   "id": "4f97c017",
   "metadata": {},
   "source": [
    "# Cross Validation\n",
    "Finally we are going to modify the knn_train_test() function to use k-fold cross validation instead of test/train validation. In k-fold cross validation, we divide the dataset into <mark>n</mark> parts, and iterate through KNN testing, with each subset being used as the test dataset, while the other are used for training."
   ]
  },
  {
   "cell_type": "code",
   "execution_count": 26,
   "id": "b0bab64d",
   "metadata": {},
   "outputs": [],
   "source": [
    "# Importing the cross_val_score and KFold libraries, which enable us to perform rapid cross validation testing\n",
    "from sklearn.model_selection import cross_val_score, KFold\n",
    "\n",
    "# Defining a function to perform our cross validation testing. \n",
    "# The only different parameter to feed into this function is the fold (number of partitions we divide the dataframe into)\n",
    "# Note that we are using the default number of near neighbours (5)\n",
    "\n",
    "def cross_validation(training_columns_list,target_col,dataframe_obj,fold):\n",
    "    kf = KFold(fold, shuffle=True, random_state=1)\n",
    "    \n",
    "    # Initiating a KNN model\n",
    "    knn = KNeighborsRegressor()\n",
    "    # Using cross_val_score to return the mean square values for KNN testing on the different partitions of n folds:\n",
    "    mses = cross_val_score(knn, dataframe_obj[training_columns_list], dataframe_obj[['price']], \n",
    "                           scoring='neg_mean_squared_error', cv=kf)\n",
    "    \n",
    "    # Calculating the root mean squares\n",
    "    rmses = (np.abs(mses))**0.5\n",
    "    \n",
    "    # Finding the average and stand deviation of these root mean square values and returning to user.\n",
    "    avg_rmse = np.mean(rmses)\n",
    "    std_rmse = np.std(rmses)\n",
    "    return(avg_rmse, std_rmse)"
   ]
  },
  {
   "cell_type": "code",
   "execution_count": 27,
   "id": "d0715da4",
   "metadata": {},
   "outputs": [
    {
     "name": "stdout",
     "output_type": "stream",
     "text": [
      "Using: ['engine_size', 'horsepower', 'highway_mpg', 'width', 'city_mpg'] as training columns.\n",
      "Using: 5 as the cross validation fold.\n",
      "Using: 5 as k-value.\n",
      "We get an average RMSE value of: 3142\n",
      "We get a standard deviation in the RMSE value of: 651\n"
     ]
    }
   ],
   "source": [
    "# Testing the cross validation algoritm by giving defined training columns and a fold of 5\n",
    "\n",
    "training_cols = ['engine_size','horsepower','highway_mpg','width','city_mpg']\n",
    "fold = 5\n",
    "\n",
    "avg_rms, std_rms = cross_validation(training_cols,'price',normalized_df,fold)\n",
    "\n",
    "print('Using: ' + str(training_cols) + ' as training columns.')\n",
    "print('Using: ' + str(fold) + ' as the cross validation fold.')\n",
    "print('Using: ' + str(5) + ' as k-value.')\n",
    "print('We get an average RMSE value of: ' + str(round(avg_rms)))\n",
    "print('We get a standard deviation in the RMSE value of: ' + str(round(std_rms)))"
   ]
  },
  {
   "cell_type": "code",
   "execution_count": 28,
   "id": "9ec727fb",
   "metadata": {},
   "outputs": [],
   "source": [
    "# Testing the cross validation algorith for a range of different folds, to see which is optimal:\n",
    "\n",
    "# Initiating dictionaries for the average RMSE value and standard deviation in RMSEs\n",
    "avg_rmse_fold = {}\n",
    "std_rmse_fold = {}\n",
    "\n",
    "for fold in range(2,81):\n",
    "    avg_rmse, std_rmse = cross_validation(training_cols,'price',normalized_df,fold)\n",
    "    \n",
    "    avg_rmse_fold[fold] = avg_rmse\n",
    "    "
   ]
  },
  {
   "cell_type": "code",
   "execution_count": 32,
   "id": "58b62f74",
   "metadata": {
    "scrolled": true
   },
   "outputs": [
    {
     "data": {
      "text/plain": [
       "Text(0.5, 1.0, 'Average RMSE versus cross validation fold')"
      ]
     },
     "execution_count": 32,
     "metadata": {},
     "output_type": "execute_result"
    },
    {
     "data": {
      "image/png": "[encoded data removed]",
      "text/plain": [
       "<Figure size 720x288 with 1 Axes>"
      ]
     },
     "metadata": {
      "needs_background": "light"
     },
     "output_type": "display_data"
    }
   ],
   "source": [
    "# Converting dictionary to series for plotting.\n",
    "avg_rmse_for_plot = pd.Series(avg_rmse_fold)\n",
    "\n",
    "# Initiating a figure and specifying it's size\n",
    "f = plt.figure()\n",
    "f.set_figwidth(10)\n",
    "f.set_figheight(4)\n",
    "\n",
    "# Plotting the data\n",
    "plt.plot(avg_rmse_for_plot.index, avg_rmse_for_plot)\n",
    "plt.xlabel('Cross validation fold')\n",
    "plt.xticks(np.arange(0, 81+1, 10))\n",
    "plt.ylabel('Average RMSE')\n",
    "plt.title('Average RMSE versus cross validation fold')"
   ]
  },
  {
   "cell_type": "markdown",
   "id": "625e7987",
   "metadata": {},
   "source": [
    "# Conclusions\n",
    "\n",
    "In this project we have performed some basic K-nearest Neighbour machine learning to predict the price of cars based on the cars features.\n",
    "\n",
    "We observed that we get an improved error (RMSE) when performing cross-validation analysis, but with diminishing returns when using cross-validation folds greater than 20. \n",
    "\n",
    "The features which have the biggest correlation with the car price is <mark>engine_size</mark> and <mark>horsepower</mark>. While we understand that the car price will be influenced by other features, the addition of more features did not greatly improve the predicted prices."
   ]
  }
 ],
 "metadata": {
  "kernelspec": {
   "display_name": "Python 3 (ipykernel)",
   "language": "python",
   "name": "python3"
  },
  "language_info": {
   "codemirror_mode": {
    "name": "ipython",
    "version": 3
   },
   "file_extension": ".py",
   "mimetype": "text/x-python",
   "name": "python",
   "nbconvert_exporter": "python",
   "pygments_lexer": "ipython3",
   "version": "3.9.12"
  }
 },
 "nbformat": 4,
 "nbformat_minor": 5
}
